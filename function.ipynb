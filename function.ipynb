{
 "cells": [
  {
   "cell_type": "code",
   "execution_count": 1,
   "id": "83ca6460-3804-4501-97f0-e8d76186f5b2",
   "metadata": {},
   "outputs": [],
   "source": [
    "#1.Write a Python program to print numbers from 1 to 10 using a for loop."
   ]
  },
  {
   "cell_type": "code",
   "execution_count": null,
   "id": "74d35ad4-e939-46be-afd0-e31d90033ec6",
   "metadata": {},
   "outputs": [],
   "source": [
    "def nums(n):\n",
    "    number_list = []  # Create an empty list to store the numbers\n",
    "    for i in range(1, n + 1):\n",
    "        number_list.append(i)\n",
    "    return number_list  # Return the list\n",
    "\n",
    "n = int(input(\"Enter the number: \"))\n",
    "result = nums(n)\n",
    "print(result)\n"
   ]
  },
  {
   "cell_type": "code",
   "execution_count": null,
   "id": "cd6d705e-6b8c-45f1-a170-7a3028700af4",
   "metadata": {},
   "outputs": [],
   "source": [
    "2.Explain the difference between a for loop and a while loop in Python."
   ]
  },
  {
   "cell_type": "code",
   "execution_count": null,
   "id": "4cc92a56-f7c7-4139-8327-11cc76f07b4f",
   "metadata": {},
   "outputs": [],
   "source": [
    "for loop\n",
    "for loop used for keyword.\n",
    "for loop"
   ]
  },
  {
   "cell_type": "code",
   "execution_count": null,
   "id": "99fead4a-4f0e-4e4a-907f-38776e0297c6",
   "metadata": {},
   "outputs": [],
   "source": [
    "3.Write a Python program to calculate the sum of all numbers from 1 to 100 using a for loop."
   ]
  },
  {
   "cell_type": "code",
   "execution_count": null,
   "id": "36f8cf43-335b-4545-a1f9-5bb1bc2efe0d",
   "metadata": {},
   "outputs": [],
   "source": [
    "def add():\n",
    "    sum =0\n",
    "    for i in range(1,101):\n",
    "        sum = sum+i\n",
    "    return sum\n",
    "result = add()\n",
    "print(result)"
   ]
  },
  {
   "cell_type": "code",
   "execution_count": null,
   "id": "a09c802e-3776-47ea-b216-eb7b678e84e7",
   "metadata": {},
   "outputs": [],
   "source": [
    "4.How do you iterate through a list using a for loop in Python?\n"
   ]
  },
  {
   "cell_type": "code",
   "execution_count": 1,
   "id": "d60479af-05bc-492f-86cc-0f0198d1503c",
   "metadata": {},
   "outputs": [
    {
     "name": "stdout",
     "output_type": "stream",
     "text": [
      "1\n",
      "2\n",
      "4\n",
      "5\n",
      "6\n"
     ]
    }
   ],
   "source": [
    "list1 = [1,2,4,5,6]\n",
    "for i in list1:\n",
    "    print(i)"
   ]
  },
  {
   "cell_type": "code",
   "execution_count": null,
   "id": "5a30333b-9d72-4866-aa39-07f41be5877a",
   "metadata": {},
   "outputs": [],
   "source": [
    "5.Write a Python program to find the product of all elements in a list using a for loop."
   ]
  },
  {
   "cell_type": "code",
   "execution_count": null,
   "id": "a878fc66-686a-4a86-9612-a82a65300403",
   "metadata": {},
   "outputs": [],
   "source": [
    "def list1(list2):\n",
    "    product = 1\n",
    "    for i in list2:\n",
    "        product = product * i\n",
    "    return product\n",
    "\n",
    "list2 = [3,5,6,10]\n",
    "result = list1(list2)\n",
    "print(result)\n"
   ]
  },
  {
   "cell_type": "code",
   "execution_count": null,
   "id": "f270da00-10b6-414b-859f-4c5cb6ace339",
   "metadata": {},
   "outputs": [],
   "source": [
    "6.Create a Python program that prints all even numbers from 1 to 20 using a for loop."
   ]
  },
  {
   "cell_type": "code",
   "execution_count": null,
   "id": "cb1c1e9f-a87f-48dc-b3e7-2d47095dc216",
   "metadata": {},
   "outputs": [],
   "source": [
    "def even(num):\n",
    "    result = []\n",
    "    for i in range(1,num+1):\n",
    "        if i%2== 0:\n",
    "            result.append(i)\n",
    "    return result\n",
    "n = int(input(\"enter the number\"))\n",
    "ans = even(n)\n",
    "print(ans)"
   ]
  },
  {
   "cell_type": "code",
   "execution_count": null,
   "id": "6c8f7ae1-bce7-4c5c-bb6c-3acccfbae4f5",
   "metadata": {},
   "outputs": [],
   "source": [
    "7.Write a Python program that calculates the factorial of a number using a for loop."
   ]
  },
  {
   "cell_type": "code",
   "execution_count": null,
   "id": "5401c088-cc50-4cd4-b72b-3cf77a9b2727",
   "metadata": {},
   "outputs": [],
   "source": [
    "def fact(n):\n",
    "    factorial = 1\n",
    "    for i in range(1,n+1):\n",
    "        factorial = factorial*i\n",
    "    return factorial\n",
    "\n",
    "n = int(input(\"enter the factorial number\"))\n",
    "result = fact(n)\n",
    "print(result)\n",
    "              \n",
    "\n",
    "        "
   ]
  },
  {
   "cell_type": "code",
   "execution_count": null,
   "id": "5b94353c-32d7-4324-bf09-875e82441bb5",
   "metadata": {},
   "outputs": [],
   "source": [
    "8.How can you iterate through the characters of a string using a for loop in Python?\n"
   ]
  },
  {
   "cell_type": "code",
   "execution_count": 3,
   "id": "38f9fb11-d673-4547-8a61-b2ea677c2e33",
   "metadata": {},
   "outputs": [
    {
     "name": "stdout",
     "output_type": "stream",
     "text": [
      "v\n",
      "i\n",
      "n\n",
      "e\n",
      "e\n",
      "t\n"
     ]
    }
   ],
   "source": [
    "char =\"vineet\"\n",
    "for i in char:\n",
    "    print(i)"
   ]
  },
  {
   "cell_type": "code",
   "execution_count": null,
   "id": "dadfc1bc-9cb2-4441-867d-75641eb91b37",
   "metadata": {},
   "outputs": [],
   "source": [
    "#9.Write a Python program to find the largest number in a list using a for loop."
   ]
  },
  {
   "cell_type": "code",
   "execution_count": null,
   "id": "0e4878e9-357b-43c3-9483-be64c69ca7a4",
   "metadata": {},
   "outputs": [],
   "source": [
    "def maxi(list1):\n",
    "    largest = 0\n",
    "    for i in list1:\n",
    "        if i>largest:\n",
    "            largest = i\n",
    "    return largest\n",
    "list1 = [5,11,2,10,90]\n",
    "result = maxi(list1)\n",
    "print(result)\n",
    "    "
   ]
  },
  {
   "cell_type": "code",
   "execution_count": null,
   "id": "f093edf2-a54d-4911-82c3-1cdbffb0482e",
   "metadata": {},
   "outputs": [],
   "source": [
    "10.#Create a Python program that prints the Fibonacci sequence up to a specified limit using a for loop."
   ]
  },
  {
   "cell_type": "code",
   "execution_count": null,
   "id": "a3280dff-1ff8-44f8-9b92-38b935400fd4",
   "metadata": {},
   "outputs": [],
   "source": [
    "def fibo(n):\n",
    "    list1 =[]\n",
    "    \n",
    "    if(n>=0):\n",
    "        list1.append(0)\n",
    "    if(n>=1):\n",
    "        list1.append(1)\n",
    "    for i in range(2,n+1):\n",
    "        result = list1[-1] +list1[-2]\n",
    "        list1.append(result)\n",
    "    return list1\n",
    "n = int(input(\"enter the number\"))\n",
    "ans = fibo(n)\n",
    "print(\"fibnacci:\",ans)\n",
    "        "
   ]
  },
  {
   "cell_type": "code",
   "execution_count": 2,
   "id": "72afb49b-e7f3-414f-a870-e30577de2014",
   "metadata": {},
   "outputs": [],
   "source": [
    "#11.Write a Python program to count the number of vowels in a given string using a for loop."
   ]
  },
  {
   "cell_type": "code",
   "execution_count": 3,
   "id": "81bd93b8-5928-4e8f-bce8-2acc39990640",
   "metadata": {},
   "outputs": [
    {
     "name": "stdin",
     "output_type": "stream",
     "text": [
      "enter the string d\n"
     ]
    },
    {
     "name": "stdout",
     "output_type": "stream",
     "text": [
      "0\n"
     ]
    }
   ],
   "source": [
    "def result(str):\n",
    "    vowels = \"aeiouAEIOU\"\n",
    "    count = 0\n",
    "    for i in str:\n",
    "        if i in vowels:\n",
    "            count = count+1\n",
    "    return count\n",
    "n = input(\"enter the string\")\n",
    "ans = result(n)\n",
    "print(ans)"
   ]
  },
  {
   "cell_type": "code",
   "execution_count": 2,
   "id": "1ab19dd7-ecad-40ec-b9da-a7d773708495",
   "metadata": {},
   "outputs": [],
   "source": [
    "#12.Create a Python program that generates a multiplication table for a given number using a for loop."
   ]
  },
  {
   "cell_type": "code",
   "execution_count": null,
   "id": "f7cdd016-9311-4a20-8c43-2f2ec93982d5",
   "metadata": {},
   "outputs": [],
   "source": [
    "def table(n):\n",
    "    result = 0\n",
    "    for i in range(1,11):\n",
    "        result = n*i\n",
    "        print(f\"{n}*{i} = \",result)\n",
    "        print()\n",
    "    return result\n",
    "n = int(input(\"enter the number\"))\n",
    "table(n)\n",
    "\n"
   ]
  },
  {
   "cell_type": "code",
   "execution_count": null,
   "id": "63d0d845-31d4-4dac-850a-8da3a93b993d",
   "metadata": {},
   "outputs": [],
   "source": [
    "13.Write a Python program to reverse a list using a for loop"
   ]
  },
  {
   "cell_type": "code",
   "execution_count": null,
   "id": "8f2bf729-5aff-43d9-8782-f08fb8f47e56",
   "metadata": {},
   "outputs": [],
   "source": [
    "def ans(list1):\n",
    "    result = []\n",
    "    for i in range(len(list1), 0, -1):\n",
    "        result.append(i)\n",
    "    return result\n",
    "\n",
    "list1 = [1, 2, 3, 4, 5]\n",
    "result = ans(list1)\n",
    "print(result)\n",
    "\n"
   ]
  },
  {
   "cell_type": "code",
   "execution_count": null,
   "id": "b1b13091-0592-421e-88ae-337675c792be",
   "metadata": {},
   "outputs": [],
   "source": [
    "14.Write a Python program to find the common elements between two lists using a for loop."
   ]
  },
  {
   "cell_type": "code",
   "execution_count": null,
   "id": "0a537073-df46-4937-a3b9-eb016b60c286",
   "metadata": {},
   "outputs": [],
   "source": [
    "def common(list1,list2):\n",
    "    result =[]\n",
    "    for i in list1:\n",
    "        if i in list2:\n",
    "            result.append(i)\n",
    "    return result\n",
    "list1 = [1,2,4,5,6]\n",
    "list2 = [7,9,10,4]\n",
    "common(list1,list2)\n"
   ]
  },
  {
   "cell_type": "code",
   "execution_count": null,
   "id": "d57b7a8e-7bf5-493b-965f-a8c6ef449855",
   "metadata": {},
   "outputs": [],
   "source": [
    "15.Explain how to use a for loop to iterate through the keys and values of a dictionary in Python."
   ]
  },
  {
   "cell_type": "code",
   "execution_count": 4,
   "id": "47cc26de-0ff6-4987-aeca-8a5e4fca69b9",
   "metadata": {},
   "outputs": [
    {
     "name": "stdout",
     "output_type": "stream",
     "text": [
      "Key: name, Value: Alice\n",
      "Key: age, Value: 30\n",
      "Key: city, Value: New York\n"
     ]
    }
   ],
   "source": [
    "my_dict = {\n",
    "    \"name\": \"Alice\",\n",
    "    \"age\": 30,\n",
    "    \"city\": \"New York\"\n",
    "}\n",
    "for key, value in my_dict.items():\n",
    "    print(f\"Key: {key}, Value: {value}\")\n"
   ]
  },
  {
   "cell_type": "code",
   "execution_count": null,
   "id": "635487b2-acd2-40f1-97b1-44864751fea9",
   "metadata": {},
   "outputs": [],
   "source": [
    "#16.Write a Python program to find the GCD (Greatest Common Divisor) of two numbers using a for loop."
   ]
  },
  {
   "cell_type": "code",
   "execution_count": 5,
   "id": "a28e4adc-0733-4f23-a155-76bc1e60124a",
   "metadata": {},
   "outputs": [
    {
     "name": "stdin",
     "output_type": "stream",
     "text": [
      "Enter first number:  8\n",
      "Enter second number:  0\n"
     ]
    },
    {
     "name": "stdout",
     "output_type": "stream",
     "text": [
      "The GCD of 8 and 0 is 8\n"
     ]
    }
   ],
   "source": [
    "# Function to find GCD using Euclidean algorithm\n",
    "def gcd(a, b):\n",
    "    while b != 0:\n",
    "        a, b = b, a % b\n",
    "    return a\n",
    "\n",
    "# Take user input for two numbers\n",
    "num1 = int(input(\"Enter first number: \"))\n",
    "num2 = int(input(\"Enter second number: \"))\n",
    "\n",
    "# Calculate GCD using the gcd function\n",
    "result = gcd(num1, num2)\n",
    "\n",
    "# Output the result\n",
    "print(f\"The GCD of {num1} and {num2} is {result}\")\n"
   ]
  },
  {
   "cell_type": "code",
   "execution_count": null,
   "id": "5aa5c1dd-486a-4997-bcec-ce49a1ad039c",
   "metadata": {},
   "outputs": [],
   "source": [
    "17.Create a Python program that checks if a string is a palindrome using a for loop."
   ]
  },
  {
   "cell_type": "code",
   "execution_count": null,
   "id": "346cb8bb-e80a-4f67-acbd-d4085589b10d",
   "metadata": {},
   "outputs": [],
   "source": [
    "def is_palindrome(input_string):\n",
    "    cleaned = input_string.replace(\" \",\"\").lower()\n",
    "    right = 0\n",
    "    left = len(cleaned)-1\n",
    "    for i in range(len(cleaned)//2):\n",
    "        if cleaned[left] != cleaned[right]:\n",
    "            return False\n",
    "    return True\n",
    "n = input(\"enter the string\")\n",
    "if is_palindrome(n):\n",
    "    print(\"palindrome\")\n",
    "else:\n",
    "    print(\"not palindrome\")\n",
    "        \n",
    "\n"
   ]
  },
  {
   "cell_type": "code",
   "execution_count": null,
   "id": "6bfdd5fb-7232-47e9-907f-51e5c4445c15",
   "metadata": {},
   "outputs": [],
   "source": [
    "#18.Write a Python program to remove duplicates from a list using a for loop."
   ]
  },
  {
   "cell_type": "code",
   "execution_count": null,
   "id": "6797e6bf-8ad1-42e3-b0f5-5e11ec8d3bb2",
   "metadata": {},
   "outputs": [],
   "source": [
    "def remove(list):\n",
    "    result = []\n",
    "    for i in list:\n",
    "        if i not in result:\n",
    "            result.append(i)\n",
    "    return result\n",
    "\n",
    "        \n",
    "list = [2,3,3,4,7,89]\n",
    "remove(list)\n",
    "\n"
   ]
  },
  {
   "cell_type": "code",
   "execution_count": null,
   "id": "7695d208-fc67-405c-b301-e89444a9901c",
   "metadata": {},
   "outputs": [],
   "source": [
    "19.Create a Python program that counts the number of words in a sentence using a for loop."
   ]
  },
  {
   "cell_type": "code",
   "execution_count": 2,
   "id": "430b9aeb-b06d-41e5-b5e3-c8270b7c5537",
   "metadata": {},
   "outputs": [
    {
     "data": {
      "text/plain": [
       "2"
      ]
     },
     "execution_count": 2,
     "metadata": {},
     "output_type": "execute_result"
    }
   ],
   "source": [
    "def num(list):\n",
    "    count = 0\n",
    "    for i in list:\n",
    "        count = count+1\n",
    "    return count\n",
    "list = [\"vineet\",\"kumar\"]\n",
    "num(list)\n"
   ]
  },
  {
   "cell_type": "code",
   "execution_count": null,
   "id": "3a72154b-5177-4ccc-b8f2-979e329be7b1",
   "metadata": {},
   "outputs": [],
   "source": [
    "20.Write a Python program to find the sum of all odd numbers from 1 to 50 using a for loop."
   ]
  },
  {
   "cell_type": "code",
   "execution_count": null,
   "id": "89b9e85f-5374-4914-850f-eaeb593b28ed",
   "metadata": {},
   "outputs": [],
   "source": [
    "def odd_sum(n):\n",
    "    count =0 \n",
    "    for i in range(1,n+1):\n",
    "        if i%2 != 0:\n",
    "            count += i\n",
    "    return count\n",
    "n = int(input(\"enter the number\"))\n",
    "odd_sum(n)"
   ]
  },
  {
   "cell_type": "code",
   "execution_count": null,
   "id": "fe75b01a-9b16-4792-ae5f-02063bf17bbd",
   "metadata": {},
   "outputs": [],
   "source": [
    "#21.Write a Python program that checks if a given year is a leap year using a for loop.\n"
   ]
  },
  {
   "cell_type": "code",
   "execution_count": 6,
   "id": "e4d3f287-ed4a-4373-bca2-34907035c20c",
   "metadata": {},
   "outputs": [
    {
     "name": "stdin",
     "output_type": "stream",
     "text": [
      "Enter a year:  2900\n"
     ]
    },
    {
     "name": "stdout",
     "output_type": "stream",
     "text": [
      "2900 is not a leap year.\n"
     ]
    }
   ],
   "source": [
    "# Function to check if a year is a leap year\n",
    "def is_leap_year(year):\n",
    "    if (year % 4 == 0 and year % 100 != 0) or (year % 400 == 0):\n",
    "        return True\n",
    "    else:\n",
    "        return False\n",
    "\n",
    "# Take user input for the year\n",
    "year = int(input(\"Enter a year: \"))\n",
    "\n",
    "# Check if the year is a leap year using the is_leap_year function\n",
    "if is_leap_year(year):\n",
    "    print(f\"{year} is a leap year.\")\n",
    "else:\n",
    "    print(f\"{year} is not a leap year.\")\n"
   ]
  },
  {
   "cell_type": "code",
   "execution_count": null,
   "id": "e2252e20-f996-461e-8099-5769b33b1c3c",
   "metadata": {},
   "outputs": [],
   "source": [
    "#22.Create a Python program that calculates the square root of a number using a for loop."
   ]
  },
  {
   "cell_type": "code",
   "execution_count": 8,
   "id": "86a85c01-05f7-42fc-b024-1bbad54b979f",
   "metadata": {},
   "outputs": [
    {
     "name": "stdin",
     "output_type": "stream",
     "text": [
      "Enter a number:  7.8\n"
     ]
    },
    {
     "name": "stdout",
     "output_type": "stream",
     "text": [
      "The square root of 7.8 is approximately 2.792848\n"
     ]
    }
   ],
   "source": [
    "# Function to calculate square root using Newton-Raphson method\n",
    "def square_root(number, epsilon=1e-10):\n",
    "    guess = number  # Initial guess for square root\n",
    "    for _ in range(100):  # Perform 100 iterations (you can adjust this number based on your desired level of precision)\n",
    "        new_guess = 0.5 * (guess + number / guess)  # Newton-Raphson formula for approximation\n",
    "        if abs(new_guess - guess) < epsilon:  # Check if the guess has converged (reached desired precision)\n",
    "            return new_guess\n",
    "        guess = new_guess  # Update the guess for the next iteration\n",
    "    return guess  # Return the final approximation if the desired precision is not achieved\n",
    "\n",
    "# Take user input for the number\n",
    "number = float(input(\"Enter a number: \"))\n",
    "\n",
    "# Calculate and output the square root using the square_root function\n",
    "result = square_root(number)\n",
    "print(f\"The square root of {number} is approximately {result:.6f}\")\n"
   ]
  },
  {
   "cell_type": "code",
   "execution_count": null,
   "id": "8c80e7ad-1e35-4445-a220-2a0c6fef4dd8",
   "metadata": {},
   "outputs": [],
   "source": [
    "#23.Write a Python program to find the LCM (Least Common Multiple) of two numbers using a for loop."
   ]
  },
  {
   "cell_type": "code",
   "execution_count": 9,
   "id": "472ba6fa-8bef-4b21-843d-28ca07b0d042",
   "metadata": {},
   "outputs": [
    {
     "name": "stdin",
     "output_type": "stream",
     "text": [
      "Enter the first number:  4\n",
      "Enter the second number:  5\n"
     ]
    },
    {
     "name": "stdout",
     "output_type": "stream",
     "text": [
      "The LCM of 4 and 5 is 20\n"
     ]
    }
   ],
   "source": [
    "# Function to calculate GCD using Euclidean algorithm\n",
    "def gcd(a, b):\n",
    "    while b != 0:\n",
    "        a, b = b, a % b\n",
    "    return a\n",
    "\n",
    "# Function to calculate LCM\n",
    "def lcm(a, b):\n",
    "    return abs(a * b) // gcd(a, b)\n",
    "\n",
    "# Take user input for two numbers\n",
    "num1 = int(input(\"Enter the first number: \"))\n",
    "num2 = int(input(\"Enter the second number: \"))\n",
    "\n",
    "# Calculate and output the LCM using the lcm function\n",
    "result = lcm(num1, num2)\n",
    "print(f\"The LCM of {num1} and {num2} is {result}\")\n"
   ]
  },
  {
   "cell_type": "code",
   "execution_count": null,
   "id": "e5ca92f2-e06b-4542-acf5-75676a983aab",
   "metadata": {},
   "outputs": [],
   "source": [
    "\n",
    "\n",
    "    If else :\n",
    "        \n",
    "        "
   ]
  },
  {
   "cell_type": "code",
   "execution_count": null,
   "id": "8dca1c7c-e0fc-46bd-8b70-f40a210c3932",
   "metadata": {},
   "outputs": [],
   "source": [
    "\n",
    "1.Write a Python program to check if a number is positive, negative, or zero using an if-else statement.\n"
   ]
  },
  {
   "cell_type": "code",
   "execution_count": null,
   "id": "9cc798f8-9c6b-4b60-944a-004f6af472f5",
   "metadata": {},
   "outputs": [],
   "source": [
    "n = int(input(\"enter the number\"))\n",
    "if n>0:\n",
    "    print(\"positive\")\n",
    "elif n==0:\n",
    "    print(\"zero\")\n",
    "else:\n",
    "    print(\"negative\")"
   ]
  },
  {
   "cell_type": "code",
   "execution_count": null,
   "id": "09637524-3b86-4799-94b6-933c8b472f3c",
   "metadata": {},
   "outputs": [],
   "source": [
    "2.Create a Python program that checks if a given number is even or odd using an if-else statement."
   ]
  },
  {
   "cell_type": "code",
   "execution_count": null,
   "id": "069027d0-d183-44e2-b4f2-7102f0b81551",
   "metadata": {},
   "outputs": [],
   "source": [
    "def even_odd(n):\n",
    "    if n%2 == 0:\n",
    "        return 'even'\n",
    "    else:\n",
    "        return \"odd\"\n",
    "n = int(input(\"enter the number\"))\n",
    "even_odd(n)"
   ]
  },
  {
   "cell_type": "code",
   "execution_count": null,
   "id": "d0d9e010-f08f-426f-8141-78f53e9a734b",
   "metadata": {},
   "outputs": [],
   "source": [
    "3.How can you use nested if-else statements in Python, and provide an example"
   ]
  },
  {
   "cell_type": "code",
   "execution_count": null,
   "id": "504ea73e-24da-48d4-b48c-a00848f26592",
   "metadata": {},
   "outputs": [],
   "source": [
    "# Take user input for a number\n",
    "number = float(input(\"Enter a number: \"))\n",
    "\n",
    "if number > 0:\n",
    "    print(\"The number is positive.\")\n",
    "elif number < 0:\n",
    "    print(\"The number is negative.\")\n",
    "else:\n",
    "    print(\"The number is zero.\")\n"
   ]
  },
  {
   "cell_type": "code",
   "execution_count": null,
   "id": "330448fb-e503-4498-9995-be991b20a8fd",
   "metadata": {},
   "outputs": [],
   "source": [
    "#4.Write a Python program to determine the largest of three numbers using if-else."
   ]
  },
  {
   "cell_type": "code",
   "execution_count": null,
   "id": "3c4253be-b528-4709-b462-8624027917d0",
   "metadata": {},
   "outputs": [],
   "source": [
    "# Take user input for three numbers\n",
    "num1 = float(input(\"Enter the first number: \"))\n",
    "num2 = float(input(\"Enter the second number: \"))\n",
    "num3 = float(input(\"Enter the third number: \"))\n",
    "\n",
    "# Determine the largest number using if-else statements\n",
    "if num1 >= num2 and num1 >= num3:\n",
    "    largest = num1\n",
    "elif num2 >= num1 and num2 >= num3:\n",
    "    largest = num2\n",
    "else:\n",
    "    largest = num3\n",
    "\n",
    "# Output the result\n",
    "print(f\"The largest number among {num1}, {num2}, and {num3} is: {largest}\")\n"
   ]
  },
  {
   "cell_type": "code",
   "execution_count": null,
   "id": "20a14127-96bc-4bc1-94cb-24caf33db9d3",
   "metadata": {},
   "outputs": [],
   "source": [
    "#5.Write a Python program that calculates the absolute value of a number using if-else."
   ]
  },
  {
   "cell_type": "code",
   "execution_count": null,
   "id": "6246118a-4cce-4156-9d9e-442037260f3d",
   "metadata": {},
   "outputs": [],
   "source": [
    "# Input a number from the user\n",
    "num = float(input(\"Enter a number: \"))\n",
    "\n",
    "# Check if the number is negative\n",
    "if num < 0:\n",
    "    # If it's negative, make it positive\n",
    "    absolute_value = -num\n",
    "else:\n",
    "    # If it's non-negative, it's already positive\n",
    "    absolute_value = num\n",
    "\n",
    "# Print the absolute value\n",
    "print(\"The absolute value of\", num, \"is\", absolute_value)\n"
   ]
  },
  {
   "cell_type": "code",
   "execution_count": null,
   "id": "2dd85f3f-f16d-4d8f-b64d-c6048a90d38a",
   "metadata": {},
   "outputs": [],
   "source": [
    "6.Create a Python program that checks if a given character is a vowel or consonant using if-else."
   ]
  },
  {
   "cell_type": "code",
   "execution_count": null,
   "id": "8eeeea06-830e-4aaa-b74f-3cddb0b8e184",
   "metadata": {},
   "outputs": [],
   "source": [
    "vowel = \"aeiouAEIOU\"\n",
    "str = input(\"enter the string\")\n",
    "for i in str:\n",
    "    if i in vowel:\n",
    "        print(\"vowel\")\n",
    "    else:\n",
    "        print(\"consonat\")\n"
   ]
  },
  {
   "cell_type": "code",
   "execution_count": null,
   "id": "6bcd44cf-ce8b-4a70-9f97-4be772edb4d5",
   "metadata": {},
   "outputs": [],
   "source": [
    "#7.Write a Python program to determine if a user is eligible to vote based on their age using if-else."
   ]
  },
  {
   "cell_type": "code",
   "execution_count": null,
   "id": "1f830943-d5bf-4a11-89cf-b2c4fb2db784",
   "metadata": {},
   "outputs": [],
   "source": [
    "age = int(input(\"enter the age\"))\n",
    "if age<18:\n",
    "    print(\"you are not eligible for vote\")\n",
    "else:\n",
    "    print(\"eligible\")\n",
    "    "
   ]
  },
  {
   "cell_type": "code",
   "execution_count": null,
   "id": "935378dc-5bed-4f77-9e9c-d6355127065e",
   "metadata": {},
   "outputs": [],
   "source": [
    "8.Create a Python program that calculates the discount amount based on the purchase amount using if-else.\n"
   ]
  },
  {
   "cell_type": "code",
   "execution_count": null,
   "id": "95a23929-83c8-47b3-a7bc-041eab62c9ab",
   "metadata": {},
   "outputs": [],
   "source": [
    "# Take user input for the purchase amount\n",
    "purchase_amount = float(input(\"Enter the purchase amount: \"))\n",
    "\n",
    "# Define discount rates based on purchase amount\n",
    "if purchase_amount >= 100:\n",
    "    discount_rate = 0.10  # 10% discount for purchase amount greater than or equal to 100\n",
    "else:\n",
    "    discount_rate = 0  # No discount for purchase amount less than 100\n",
    "\n",
    "# Calculate discount amount\n",
    "discount_amount = purchase_amount * discount_rate\n",
    "\n",
    "# Calculate the final amount after discount\n",
    "final_amount = purchase_amount - discount_amount\n",
    "\n",
    "# Output the discount amount and final amount\n",
    "print(f\"Discount Amount: ${discount_amount:.2f}\")\n",
    "print(f\"Final Amount after Discount: ${final_amount:.2f}\")\n"
   ]
  },
  {
   "cell_type": "code",
   "execution_count": null,
   "id": "57fca553-f198-4b50-a269-8a98cabd8505",
   "metadata": {},
   "outputs": [],
   "source": [
    "9.Write a Python program to check if a number is within a specified range using if-else.\n"
   ]
  },
  {
   "cell_type": "code",
   "execution_count": null,
   "id": "a851a230-f455-47cc-bb4a-767197fbf4df",
   "metadata": {},
   "outputs": [],
   "source": [
    "# Define the specified range\n",
    "lower_bound = 10\n",
    "upper_bound = 50\n",
    "\n",
    "# Take user input for the number to be checked\n",
    "number = float(input(\"Enter a number: \"))\n",
    "\n",
    "# Check if the number is within the specified range using if-else statements\n",
    "if number >= lower_bound and number <= upper_bound:\n",
    "    print(f\"{number} is within the specified range between {lower_bound} and {upper_bound}.\")\n",
    "else:\n",
    "    print(f\"{number} is outside the specified range between {lower_bound} and {upper_bound}.\")\n"
   ]
  },
  {
   "cell_type": "code",
   "execution_count": null,
   "id": "c59b3a30-aeb1-4a23-8f86-d4ec22b4e93f",
   "metadata": {},
   "outputs": [],
   "source": [
    "10.Create a Python program that determines the grade of a student based on their score using if-else."
   ]
  },
  {
   "cell_type": "code",
   "execution_count": null,
   "id": "c2d8ab62-5a01-4d7b-88d8-490451a6c94a",
   "metadata": {},
   "outputs": [],
   "source": [
    "# Take user input for the student's score\n",
    "score = float(input(\"Enter the student's score: \"))\n",
    "\n",
    "# Determine the grade based on the score using if-else statements\n",
    "if score >= 90:\n",
    "    grade = 'A'\n",
    "elif score >= 80:\n",
    "    grade = 'B'\n",
    "elif score >= 70:\n",
    "    grade = 'C'\n",
    "elif score >= 60:\n",
    "    grade = 'D'\n",
    "else:\n",
    "    grade = 'F'\n",
    "\n",
    "# Output the grade\n",
    "print(f\"The student's grade is: {grade}\")\n"
   ]
  },
  {
   "cell_type": "code",
   "execution_count": null,
   "id": "3a755f8a-fba8-46f5-8be3-8d285918965a",
   "metadata": {},
   "outputs": [],
   "source": [
    "#11.Write a Python program to check if a string is empty or not using if-else.\n"
   ]
  },
  {
   "cell_type": "code",
   "execution_count": null,
   "id": "2e48b884-c7a1-4b9b-9fa3-1803ecf635a5",
   "metadata": {},
   "outputs": [],
   "source": [
    "# Take user input for the string\n",
    "user_input = input(\"Enter a string: \")\n",
    "\n",
    "# Check if the string is empty using if-else statements\n",
    "if user_input:\n",
    "    print(\"The string is not empty.\")\n",
    "else:\n",
    "    print(\"The string is empty.\")\n"
   ]
  },
  {
   "cell_type": "code",
   "execution_count": null,
   "id": "e761ca04-3561-4ad6-a8b2-382f9a981de5",
   "metadata": {},
   "outputs": [],
   "source": [
    "12. Create a Python program that identifies the type of a triangle (e.g., equilateral, isosceles, or\n",
    "scalene) based on input values using if-else."
   ]
  },
  {
   "cell_type": "code",
   "execution_count": null,
   "id": "c083d438-2d20-4856-90d2-13d90b22958b",
   "metadata": {},
   "outputs": [],
   "source": [
    "# Take user input for sides of the triangle\n",
    "side1 = float(input(\"Enter the length of side 1: \"))\n",
    "side2 = float(input(\"Enter the length of side 2: \"))\n",
    "side3 = float(input(\"Enter the length of side 3: \"))\n",
    "\n",
    "# Check the type of triangle using if-else statements\n",
    "if side1 == side2 == side3:\n",
    "    print(\"Equilateral Triangle\")\n",
    "elif side1 == side2 or side1 == side3 or side2 == side3:\n",
    "    print(\"Isosceles Triangle\")\n",
    "else:\n",
    "    print(\"Scalene Triangle\")\n"
   ]
  },
  {
   "cell_type": "code",
   "execution_count": null,
   "id": "ee5967bb-dd7b-4d03-8219-e1371098ad99",
   "metadata": {},
   "outputs": [],
   "source": [
    "13. Write a Python program to determine the day of the week based on a user-provided number\n",
    "using if-else."
   ]
  },
  {
   "cell_type": "code",
   "execution_count": null,
   "id": "43cb7e30-4b85-4396-bbfd-5bef3aa0ccf3",
   "metadata": {},
   "outputs": [],
   "source": [
    "# Take user input for a number representing the day of the week\n",
    "day_number = int(input(\"Enter a number (1-7) representing the day of the week: \"))\n",
    "\n",
    "# Determine the day of the week using if-else statements\n",
    "if day_number == 1:\n",
    "    print(\"Sunday\")\n",
    "elif day_number == 2:\n",
    "    print(\"Monday\")\n",
    "elif day_number == 3:\n",
    "    print(\"Tuesday\")\n",
    "elif day_number == 4:\n",
    "    print(\"Wednesday\")\n",
    "elif day_number == 5:\n",
    "    print(\"Thursday\")\n",
    "elif day_number == 6:\n",
    "    print(\"Friday\")\n",
    "elif day_number == 7:\n",
    "    print(\"Saturday\")\n",
    "else:\n",
    "    print(\"Invalid input. Please enter a number between 1 and 7.\")\n",
    "\n",
    "### 14. Checking for Leap Year (Using Function and if-else)\n",
    "```python\n",
    "# Function to check if a year is a leap year\n",
    "def is_leap_year(year):\n",
    "    if (year % 4 == 0 and year % 100 != 0) or (year % 400 == 0):\n",
    "        return True\n",
    "    else:\n",
    "        return False\n",
    "\n",
    "# Take user input for the year\n",
    "year = int(input(\"Enter a year: \"))\n",
    "\n",
    "# Check if the year is a leap year using the is_leap_year function\n",
    "if is_leap_year(year):\n",
    "    print(f\"{year} is a leap year.\")\n",
    "else:\n",
    "    print(f\"{year} is not a leap year.\")\n"
   ]
  },
  {
   "cell_type": "code",
   "execution_count": null,
   "id": "49f66537-7674-4cdc-a16f-b8471347df46",
   "metadata": {},
   "outputs": [],
   "source": [
    "14. Create a Python program that checks if a given year is a leap year using both if-else and a\n",
    "function."
   ]
  },
  {
   "cell_type": "code",
   "execution_count": null,
   "id": "b4837294-f950-4caf-95c6-3d874b0d51cd",
   "metadata": {},
   "outputs": [],
   "source": [
    "# Example using assert statement within an if-else block\n",
    "number = int(input(\"Enter a number: \"))\n",
    "assert number > 0, \"Number must be positive\"\n",
    "if number % 2 == 0:\n",
    "    print(\"Number is even.\")\n",
    "else:\n",
    "    print(\"Number is odd.\")\n"
   ]
  },
  {
   "cell_type": "code",
   "execution_count": null,
   "id": "10399830-931d-4d95-8755-e09ed97eb10c",
   "metadata": {},
   "outputs": [],
   "source": [
    "15. How do you use the &quot;assert&quot; statement in Python to add debugging checks within if-else blocks?"
   ]
  },
  {
   "cell_type": "code",
   "execution_count": null,
   "id": "cd20176e-653a-4437-ba14-cef166d6caaa",
   "metadata": {},
   "outputs": [],
   "source": [
    "# Example using assert statement within an if-else block\n",
    "number = int(input(\"Enter a number: \"))\n",
    "assert number > 0, \"Number must be positive\"\n",
    "if number % 2 == 0:\n",
    "    print(\"Number is even.\")\n",
    "else:\n",
    "    print(\"Number is odd.\")\n"
   ]
  },
  {
   "cell_type": "code",
   "execution_count": null,
   "id": "d8cbd660-23c0-4490-a60b-3f551461ed35",
   "metadata": {},
   "outputs": [],
   "source": [
    "16. Create a Python program that determines the eligibility of a person for a senior citizen discount\n",
    "based on age using if-else."
   ]
  },
  {
   "cell_type": "code",
   "execution_count": null,
   "id": "391a37ef-0360-46af-a105-9e36da7b908e",
   "metadata": {},
   "outputs": [],
   "source": [
    "# Take user input for age\n",
    "age = int(input(\"Enter your age: \"))\n",
    "\n",
    "# Check eligibility for senior citizen discount using if-else statements\n",
    "if age >= 60:\n",
    "    print(\"You are eligible for a senior citizen discount.\")\n",
    "else:\n",
    "    print(\"You are not eligible for a senior citizen discount.\")\n"
   ]
  },
  {
   "cell_type": "code",
   "execution_count": null,
   "id": "2b7c3429-faf4-41f2-8dff-b2164746518f",
   "metadata": {},
   "outputs": [],
   "source": [
    "17. Write a Python program to categorize a given character as uppercase, lowercase, or neither\n",
    "using if-else."
   ]
  },
  {
   "cell_type": "code",
   "execution_count": null,
   "id": "a46b1505-f401-43b8-8072-32f36c495539",
   "metadata": {},
   "outputs": [],
   "source": [
    "# Take user input for a character\n",
    "char = input(\"Enter a character: \")\n",
    "\n",
    "# Check the category of the character using if-else statements\n",
    "if char.islower():\n",
    "    print(\"Lowercase letter.\")\n",
    "elif char.isupper():\n",
    "    print(\"Uppercase letter.\")\n",
    "else:\n",
    "    print(\"Not a letter.\")\n"
   ]
  },
  {
   "cell_type": "code",
   "execution_count": null,
   "id": "3fa02f1c-cfb9-422d-b502-6aa0abe3dd46",
   "metadata": {},
   "outputs": [],
   "source": [
    "18. Write a Python program to determine the roots of a quadratic equation using if-else."
   ]
  },
  {
   "cell_type": "code",
   "execution_count": null,
   "id": "a8324750-dfff-448e-931e-5057c6c83158",
   "metadata": {},
   "outputs": [],
   "source": [
    "import math\n",
    "\n",
    "# Take user input for coefficients of the quadratic equation\n",
    "a = float(input(\"Enter coefficient a: \"))\n",
    "b = float(input(\"Enter coefficient b: \"))\n",
    "c = float(input(\"Enter coefficient c: \"))\n",
    "\n",
    "# Calculate discriminant\n",
    "discriminant = b**2 - 4*a*c\n",
    "\n",
    "# Determine roots using if-else statements\n",
    "if discriminant > 0:\n",
    "    root1 = (-b + math.sqrt(discriminant)) / (2*a)\n",
    "    root2 = (-b - math.sqrt(discriminant)) / (2*a)\n",
    "    print(f\"Roots are real and different: {root1} and {root2}\")\n",
    "elif discriminant == 0:\n",
    "    root = -b / (2*a)\n",
    "    print(f\"Roots are real and same: {root}\")\n",
    "else:\n",
    "    print(\"Roots are complex.\")\n"
   ]
  },
  {
   "cell_type": "code",
   "execution_count": null,
   "id": "7d4b76a4-f60c-4aac-aa09-278ac570b656",
   "metadata": {},
   "outputs": [],
   "source": [
    "19. Create a Python program that checks if a given year is a century year or not using if-else."
   ]
  },
  {
   "cell_type": "code",
   "execution_count": null,
   "id": "e4f68700-1dfa-460d-8f18-20152b8bc263",
   "metadata": {},
   "outputs": [],
   "source": [
    "# Take user input for the year\n",
    "year = int(input(\"Enter a year: \"))\n",
    "\n",
    "# Check if the year is a century year using if-else statements\n",
    "if year % 100 == 0:\n",
    "    print(f\"{year} is a century year.\")\n",
    "else:\n",
    "    print(f\"{year} is not a century year.\")\n"
   ]
  },
  {
   "cell_type": "code",
   "execution_count": null,
   "id": "5eaa0806-012b-4dda-8124-92815e14fb52",
   "metadata": {},
   "outputs": [],
   "source": [
    "20. Write a Python program to determine if a given number is a perfect square using if-else."
   ]
  },
  {
   "cell_type": "code",
   "execution_count": null,
   "id": "ac9f3554-efa2-47e4-a529-13235df9075c",
   "metadata": {},
   "outputs": [],
   "source": [
    "# Take user input for the number\n",
    "number = int(input(\"Enter a number: \"))\n",
    "\n",
    "# Check if the number is a perfect square using if-else statements\n",
    "if math.isqrt(number)**2 == number:\n",
    "    print(f\"{number} is a perfect square.\")\n",
    "else:\n",
    "    print(f\"{number} is not a perfect square.\")\n"
   ]
  },
  {
   "cell_type": "code",
   "execution_count": null,
   "id": "9d960769-dffa-4ba1-98ec-8fac9aff116d",
   "metadata": {},
   "outputs": [],
   "source": [
    "21. Explain the purpose of the &quot;continue&quot; and &quot;break&quot; statements within if-else loops."
   ]
  },
  {
   "cell_type": "code",
   "execution_count": null,
   "id": "b046dbd4-a25a-4483-9f63-84257f91d6ee",
   "metadata": {},
   "outputs": [],
   "source": [
    "for i in range(1, 11):\n",
    "    if i % 2 == 0:\n",
    "        continue  # Skip even numbers\n",
    "    print(i)\n",
    "\n",
    "for i in range(1, 11):\n",
    "    if i == 5:\n",
    "        break  # Exit the loop when i is 5\n",
    "    print(i)\n"
   ]
  },
  {
   "cell_type": "code",
   "execution_count": null,
   "id": "4ea4d475-91ae-45ec-8e1f-4167d163a6bd",
   "metadata": {},
   "outputs": [],
   "source": [
    "22. Create a Python program that calculates the BMI (Body Mass Index) of a person based on their\n",
    "weight and height using if-else."
   ]
  },
  {
   "cell_type": "code",
   "execution_count": null,
   "id": "9f59e98a-edf0-403f-a8c7-c62bcee5c92f",
   "metadata": {},
   "outputs": [],
   "source": [
    "# Take user input for weight (in kilograms) and height (in meters)\n",
    "weight = float(input(\"Enter your weight in kg: \"))\n",
    "height = float(input(\"Enter your height in meters: \"))\n",
    "\n",
    "# Calculate BMI using if-else statements\n",
    "bmi = weight / (height**2)\n",
    "if bmi < 18.5:\n",
    "    print(f\"Your BMI is {bmi:.2f}. You are underweight.\")\n",
    "elif bmi >= 18.5 and bmi < 25:\n",
    "    print(f\"Your BMI is {bmi:.2f}. You are normal weight.\")\n",
    "elif bmi >= 25 and bmi < 30:\n",
    "    print(f\"Your BMI is {bmi:.2f}. You are overweight.\")\n",
    "else:\n",
    "    print(f\"Your BMI is {bmi:.2f}. You are obese.\")\n"
   ]
  },
  {
   "cell_type": "code",
   "execution_count": null,
   "id": "3a6f548e-b613-42f6-a933-5a951d65900b",
   "metadata": {},
   "outputs": [],
   "source": [
    "23. How can you use the &quot;filter()&quot; function with if-else statements to filter elements from a list?"
   ]
  },
  {
   "cell_type": "code",
   "execution_count": 10,
   "id": "78490b56-1284-4c46-90bb-07bf109006bf",
   "metadata": {},
   "outputs": [],
   "source": [
    "# Filter even numbers from a list using filter() and if-else statement\n",
    "numbers = [1, 2, 3, 4, 5, 6, 7, 8, 9]\n",
    "filtered_numbers = filter\n"
   ]
  },
  {
   "cell_type": "code",
   "execution_count": null,
   "id": "0b50facd-f1fe-45c1-ab40-ecdf14e9073a",
   "metadata": {},
   "outputs": [],
   "source": [
    "24. Write a Python program to determine if a given number is prime or not using if-else."
   ]
  },
  {
   "cell_type": "code",
   "execution_count": null,
   "id": "96bb6432-26b5-4161-b186-1583c9c5af9e",
   "metadata": {},
   "outputs": [],
   "source": [
    "# Take user input for the number\n",
    "number = int(input(\"Enter a number: \"))\n",
    "\n",
    "# Check if the number is prime using if-else statements\n",
    "if number > 1:\n",
    "    for i in range(2, int(number**0.5) + 1):\n",
    "        if number % i == 0:\n",
    "            print(f\"{number} is not a prime number.\")\n",
    "            break\n",
    "    else:\n",
    "        print(f\"{number} is a prime number.\")\n",
    "else:\n",
    "    print(f\"{number} is not a prime number.\")\n"
   ]
  },
  {
   "cell_type": "code",
   "execution_count": null,
   "id": "0beda47e-6b7a-4f83-bffc-acd074ae14f9",
   "metadata": {},
   "outputs": [],
   "source": [
    "\n",
    "\n",
    "     Map :-\n",
    "    \n",
    "    \n",
    "    "
   ]
  },
  {
   "cell_type": "code",
   "execution_count": null,
   "id": "a86f3263-fe3a-46ff-85c3-9fc8aa517751",
   "metadata": {},
   "outputs": [],
   "source": [
    "1.Explain the purpose of the `map()` function in Python and provide an example \n",
    "of how it can be used to apply a function to each element of an iterable."
   ]
  },
  {
   "cell_type": "code",
   "execution_count": null,
   "id": "2dfb5ce2-b15b-4fa8-9367-c5c3914b5777",
   "metadata": {},
   "outputs": [],
   "source": [
    "The `map()` function in Python is used to apply a specified function to each item in an iterable (such as a list, tuple, or set) and \n",
    "returns an iterator that produces the results. It takes two arguments: the first argument is the function to apply, \n",
    "and the second argument is the iterable you want to apply the function to. The `map()` function provides a convenient\n",
    "and concise way to transform data without the need for explicit loops.\n",
    "\n",
    "Here's the basic syntax of the `map()` function:\n",
    "\n",
    "```python\n",
    "map(function, iterable)\n",
    "```\n",
    "\n",
    "- `function`: The function to apply to each element of the iterable.\n",
    "- `iterable`: The iterable (e.g., list, tuple) containing the elements to be transformed.\n",
    "\n",
    "Here's an example to illustrate how `map()` works:\n",
    "\n",
    "```python\n",
    "# Function to square a number\n",
    "def square(x):\n",
    "    return x ** 2\n",
    "\n",
    "# List of numbers\n",
    "numbers = [1, 2, 3, 4, 5]\n",
    "\n",
    "# Use map() to square each number in the list\n",
    "squared_numbers = map(square, numbers)\n",
    "\n",
    "# Convert the result to a list and print it\n",
    "print(list(squared_numbers))\n",
    "```\n",
    "\n",
    "In this example, the `square()` function takes a number as input and returns its square. \n",
    "The `map()` function applies the `square()` function to each element in the `numbers` list.\n",
    "The result is an iterator containing the squared numbers. When converted to a list and printed, the output will be:\n",
    "\n",
    "```\n",
    "[1, 4, 9, 16, 25]\n",
    "```\n",
    "\n",
    "In this way, `map()` allows you to transform each element \n",
    "in the iterable by applying a specified function, creating a new iterable with the transformed values."
   ]
  },
  {
   "cell_type": "code",
   "execution_count": null,
   "id": "ded47020-5d5f-4afd-8281-33560add3190",
   "metadata": {},
   "outputs": [],
   "source": [
    "#2.Write a Python program that uses the `map()` function to square each element of a list of numbers."
   ]
  },
  {
   "cell_type": "code",
   "execution_count": null,
   "id": "1995c3ba-8c82-4090-9761-46a890c36aa2",
   "metadata": {},
   "outputs": [],
   "source": [
    "def square(n):\n",
    "    return n*n\n",
    "numbers =(1,2,3,4,5,19)\n",
    "result = map(square,numbers)\n",
    "print(list(result))"
   ]
  },
  {
   "cell_type": "code",
   "execution_count": null,
   "id": "8c6d018f-fa7e-4288-8760-37a1652b89c0",
   "metadata": {},
   "outputs": [],
   "source": [
    "#3.How does the `map()` function differ from a list comprehension in Python, and when would you choose one over the other?"
   ]
  },
  {
   "cell_type": "code",
   "execution_count": null,
   "id": "5aa87f96-e5e2-44ca-9033-059b8bf2fc9f",
   "metadata": {},
   "outputs": [],
   "source": [
    "`map()` function and list comprehensions are both ways to apply a function to every item in an iterable (like a list) in Python, \n",
    "but they have some differences in terms of syntax and use cases. Let's explore the differences and when to choose one over the other:\n",
    "\n",
    "### `map()` Function:\n",
    "1. **Syntax**:\n",
    "   ```python\n",
    "   map(function, iterable)\n",
    "   ```\n",
    "   - `function`: The function to apply to each item in the iterable.\n",
    "   - `iterable`: The iterable (e.g., list, tuple) containing the items to be processed.\n",
    "\n",
    "2. **Result**:\n",
    "   - Returns an iterator containing the results of applying the function to each item in the iterable.\n",
    "\n",
    "3. **Use Case**:\n",
    "   - `map()` is useful when you want to transform every element in an iterable using a specific function and create a new iterable.\n",
    "It's particularly handy when you want to apply a function element-wise to multiple iterables simultaneously.\n",
    "\n",
    "### List Comprehension:\n",
    "1. **Syntax**:\n",
    "   ```python\n",
    "   [expression for item in iterable]\n",
    "   ```\n",
    "   - `expression`: The expression to evaluate for each item in the iterable.\n",
    "   - `item`: Variable representing each item in the iterable.\n",
    "   - `iterable`: The iterable containing the items to be processed.\n",
    "\n",
    "2. **Result**:\n",
    "   - Returns a new list created by evaluating the expression for each item in the iterable.\n",
    "\n",
    "3. **Use Case**:\n",
    "   - List comprehensions are suitable when you want to create a new list \n",
    "by evaluating an expression for each item in an existing iterable. \n",
    "They are often used for filtering, mapping, or combination of both operations.\n",
    "\n",
    "### Differences and When to Choose:\n",
    "\n",
    "1. **Readability**:\n",
    "   - `map()` can sometimes be less readable, especially when using complex functions, due to its functional nature.\n",
    "   - List comprehensions are often more readable and concise for simple transformations or filtering operations.\n",
    "\n",
    "2. **Performance**:\n",
    "   - In terms of performance, there isn't a significant difference between `map()` and list comprehensions. Both are generally fast and efficient.\n",
    "\n",
    "3. **Conditionals**:\n",
    "   - List comprehensions provide a concise way to include conditional statements for filtering items, making them suitable for tasks where \n",
    "filtering is necessary.\n",
    "   - `map()` can be used with `filter()` or other functions to achieve similar results with conditions, but it may lead to less readable code.\n",
    "\n",
    "4. **Use Cases**:\n",
    "   - If you want to transform elements from multiple iterables using a function, `map()` might be a better choice.\n",
    "   - If you are primarily transforming elements from a single iterable or need to include conditional logic,\n",
    "    list comprehensions are often more Pythonic and easier to read.\n",
    "\n",
    "In summary, choose `map()` when you need to apply a function element-wise to multiple iterables, especially \n",
    "if you are working with more than one iterable simultaneously. \n",
    "Choose list comprehensions when you want to create a new list by evaluating expressions or applying conditions to items from a single iterable. \n",
    "The choice often depends on readability and the complexity of the transformation or filtering logic."
   ]
  },
  {
   "cell_type": "code",
   "execution_count": null,
   "id": "46410ef7-0233-4cf3-abbc-c29f1b4a4f33",
   "metadata": {},
   "outputs": [],
   "source": [
    "4.Create a Python program that uses the `map()` function to convert a list of names to uppercase"
   ]
  },
  {
   "cell_type": "code",
   "execution_count": null,
   "id": "0155a150-1e08-40f9-99a6-c928aff51357",
   "metadata": {},
   "outputs": [],
   "source": [
    "def fun(str):\n",
    "    return str.upper()\n",
    "str = \"vineet\"\n",
    "result = map(fun,str)\n",
    "print(list(result))"
   ]
  },
  {
   "cell_type": "code",
   "execution_count": null,
   "id": "15e0b8be-c05a-402a-a1db-a84cec53b996",
   "metadata": {},
   "outputs": [],
   "source": [
    "#5.Write a Python program that uses the `map()` function to calculate the length of each word in a list of strings."
   ]
  },
  {
   "cell_type": "code",
   "execution_count": 7,
   "id": "51937760-4213-46a5-95c7-b6ed4b4f28c0",
   "metadata": {},
   "outputs": [
    {
     "name": "stdout",
     "output_type": "stream",
     "text": [
      "[6, 5, 5]\n"
     ]
    }
   ],
   "source": [
    "def fun(my_list):\n",
    "    return len(my_list)\n",
    "\n",
    "my_list = [\"vineet\", \"kumar\", \"singh\"]\n",
    "result = map(fun, my_list)\n",
    "print(list(result))  # Convert the map object to a list and print it\n",
    "\n"
   ]
  },
  {
   "cell_type": "code",
   "execution_count": null,
   "id": "e5f32a9d-54c1-483c-b700-662ae84a69ca",
   "metadata": {},
   "outputs": [],
   "source": [
    "6.How can you use the `map()` function to apply a custom function to elements of multiple lists simultaneously in Python?\n"
   ]
  },
  {
   "cell_type": "code",
   "execution_count": null,
   "id": "f6b9a5ce-4463-4321-8943-3672a61928db",
   "metadata": {},
   "outputs": [],
   "source": [
    "You can use the `map()` function to apply a custom function to elements of multiple lists simultaneously in Python \n",
    "by passing multiple iterables (lists, tuples, etc.) as additional arguments to the `map()` function. \n",
    "The custom function should accept as many arguments as there are iterables. \n",
    "Here's an example to illustrate how you can do this:\n",
    "\n",
    "Let's say you have two lists, `list1` and `list2`, and you want to add corresponding elements from these lists:\n",
    "\n",
    "```python\n",
    "# Custom function to add two numbers\n",
    "def add_numbers(x, y):\n",
    "    return x + y\n",
    "\n",
    "# Two lists of numbers\n",
    "list1 = [1, 2, 3, 4]\n",
    "list2 = [5, 6, 7, 8]\n",
    "\n",
    "# Use map() to apply the add_numbers function to corresponding elements of list1 and list2\n",
    "result = map(add_numbers, list1, list2)\n",
    "\n",
    "# Convert the result to a list and print it\n",
    "print(list(result))\n",
    "```\n",
    "\n",
    "In this example, the `add_numbers` function takes two arguments (`x` and `y`) and returns their sum.\n",
    "The `map()` function applies this function element-wise to corresponding elements of `list1` and `list2`. \n",
    "The result is an iterator containing the sums of corresponding elements. When you convert this iterator to a list and print it, the output will be:\n",
    "\n",
    "```\n",
    "[6, 8, 10, 12]\n",
    "```\n",
    "\n",
    "In this way, you can use the `map()` function to apply a custom function to elements of multiple lists simultaneously, \n",
    "provided that the custom function accepts as many arguments as there are iterables."
   ]
  },
  {
   "cell_type": "code",
   "execution_count": null,
   "id": "16fb7e4d-18c4-4ef3-9a20-a5d462ff885b",
   "metadata": {},
   "outputs": [],
   "source": [
    "7.Create a Python program that uses `map()` to convert a list of temperatures from Celsius to Fahrenheit.\n"
   ]
  },
  {
   "cell_type": "code",
   "execution_count": 10,
   "id": "82cd9bde-df12-417e-a09b-f4c0b15bdba5",
   "metadata": {},
   "outputs": [
    {
     "name": "stdout",
     "output_type": "stream",
     "text": [
      "[68.0, 75.2, 55.400000000000006, 129.2]\n"
     ]
    }
   ],
   "source": [
    "def fun(celsius):\n",
    "    F = celsius * (9/5) + 32\n",
    "    return F\n",
    "\n",
    "celsius = [20,24,13,54]\n",
    "result = map(fun,celsius)\n",
    "print(list(result))"
   ]
  },
  {
   "cell_type": "code",
   "execution_count": null,
   "id": "0c9e0f0f-3bee-4f9c-a759-c56355ad983d",
   "metadata": {},
   "outputs": [],
   "source": [
    "8.Write a Python program that uses the `map()` function to round each element of a list of floating-point numbers to the nearest integer."
   ]
  },
  {
   "cell_type": "code",
   "execution_count": null,
   "id": "e6daacb6-75b9-4bb1-b65f-0ec5ca8a0ff3",
   "metadata": {},
   "outputs": [],
   "source": [
    "def round_to_nearest_integer(number):\n",
    "    return round(number)\n",
    "\n",
    "floating_point = [1.33, 88.90, 1.9]\n",
    "result = map(round_to_nearest_integer, floating_point)\n",
    "print(list(result))\n"
   ]
  },
  {
   "cell_type": "code",
   "execution_count": null,
   "id": "c5622c35-aaec-47b7-92f0-2c2719065dda",
   "metadata": {},
   "outputs": [],
   "source": [
    "    \n",
    "    \n",
    "    Reduce :-\n",
    "    "
   ]
  },
  {
   "cell_type": "code",
   "execution_count": 11,
   "id": "b55ca1fd-a557-46c5-a31f-61c484292ded",
   "metadata": {},
   "outputs": [],
   "source": [
    "\n",
    "#1.What is the `reduce()` function in Python, and what module should you import to use it? Provide an example of its basic usage.\n"
   ]
  },
  {
   "cell_type": "code",
   "execution_count": null,
   "id": "ad232e54-fd26-46b8-a04c-91b4b45c4bb1",
   "metadata": {},
   "outputs": [],
   "source": [
    "The reduce(fun,seq) function is used to apply a particular function\n",
    "passed in its argument to all of the list elements mentioned in the sequence passed along.\n",
    "This function is defined in “functools” module.\n",
    "from functools import reduce\n",
    "\n",
    "list1 = [1, 2, 4, 5, 6]\n",
    "result = reduce(lambda x, y: x * y, list1)\n",
    "print(result)\n"
   ]
  },
  {
   "cell_type": "code",
   "execution_count": null,
   "id": "0ea6f0c9-4a5c-4b66-a5c3-dba65952a722",
   "metadata": {},
   "outputs": [],
   "source": [
    "2.Write a Python program that uses the `reduce()` function to find the product of all elements in a list."
   ]
  },
  {
   "cell_type": "code",
   "execution_count": 13,
   "id": "78cc1b99-6800-4d9f-81ee-b0fa1e94dde7",
   "metadata": {},
   "outputs": [
    {
     "name": "stdout",
     "output_type": "stream",
     "text": [
      "240\n"
     ]
    }
   ],
   "source": [
    "from functools import reduce\n",
    "\n",
    "list1 = [1, 2, 4, 5, 6]\n",
    "result = reduce(lambda x, y: x * y, list1)\n",
    "print(result)\n"
   ]
  },
  {
   "cell_type": "code",
   "execution_count": 14,
   "id": "239453f3-764d-4040-979b-f6eb85c81beb",
   "metadata": {},
   "outputs": [],
   "source": [
    "#3.Create a Python program that uses `reduce()` to find the maximum element in a list of numbers.\n"
   ]
  },
  {
   "cell_type": "code",
   "execution_count": 17,
   "id": "45205ffa-8f97-447a-a3d5-aa4e474cd101",
   "metadata": {},
   "outputs": [
    {
     "name": "stdout",
     "output_type": "stream",
     "text": [
      "110\n"
     ]
    }
   ],
   "source": [
    "from functools import reduce\n",
    "\n",
    "list1 = [1, 3, 90, 4, 110]\n",
    "result = reduce(lambda x, y: x if x > y else y, list1)\n",
    "print(result)\n"
   ]
  },
  {
   "cell_type": "code",
   "execution_count": null,
   "id": "b2acb872-38a1-4645-a86e-31917c7f3235",
   "metadata": {},
   "outputs": [],
   "source": [
    "4.How can you use the `reduce()` function to concatenate a list of strings into a single string?"
   ]
  },
  {
   "cell_type": "code",
   "execution_count": 19,
   "id": "f704efc4-e5c3-4c71-8d31-ca2ab226ca90",
   "metadata": {},
   "outputs": [
    {
     "name": "stdout",
     "output_type": "stream",
     "text": [
      "vineetkumar\n"
     ]
    }
   ],
   "source": [
    "from functools import reduce\n",
    "list1 = [\"vineet\",\"kumar\"]\n",
    "result = reduce(lambda x,y : x+y,list1)\n",
    "print(result)"
   ]
  },
  {
   "cell_type": "code",
   "execution_count": 20,
   "id": "68cf606c-b15c-4b11-9aa9-8c84f662b698",
   "metadata": {},
   "outputs": [],
   "source": [
    "5.Write a Python program that calculates the factorial of a number using the `reduce()` function."
   ]
  },
  {
   "cell_type": "code",
   "execution_count": 21,
   "id": "05fc5689-ceb3-4eff-bfda-1a601290aa3c",
   "metadata": {},
   "outputs": [
    {
     "name": "stdout",
     "output_type": "stream",
     "text": [
      "120\n"
     ]
    }
   ],
   "source": [
    "from functools import reduce\n",
    "n = 5\n",
    "result  = reduce(lambda x,y:x*y,range(1,n+1))\n",
    "print(result)"
   ]
  },
  {
   "cell_type": "code",
   "execution_count": 22,
   "id": "bb5c95ee-9a44-46a9-a92a-2c55963d2a10",
   "metadata": {},
   "outputs": [],
   "source": [
    "#6.Write a Python program that calculates the factorial of a number using the `reduce()` function."
   ]
  },
  {
   "cell_type": "code",
   "execution_count": 7,
   "id": "9973260d-4904-4263-8d7c-f987f04620c6",
   "metadata": {},
   "outputs": [
    {
     "name": "stdout",
     "output_type": "stream",
     "text": [
      "120\n"
     ]
    }
   ],
   "source": [
    "from functools import reduce\n",
    "\n",
    "n = 5\n",
    "result = reduce(lambda x, y: x * y, range(n, 0, -1))\n",
    "print(result)\n",
    "\n",
    "            \n"
   ]
  },
  {
   "cell_type": "code",
   "execution_count": null,
   "id": "b4b249b4-5ba3-4a23-ad89-716ca37acec3",
   "metadata": {},
   "outputs": [],
   "source": [
    "7.Write a Python program that uses the `reduce()` function to find the sum of the digits of a given number.\n"
   ]
  },
  {
   "cell_type": "code",
   "execution_count": null,
   "id": "f60a8a75-d246-4f24-bbc9-293d0abbcd40",
   "metadata": {},
   "outputs": [
    {
     "name": "stdin",
     "output_type": "stream",
     "text": [
      "Enter a number:  4\n"
     ]
    },
    {
     "name": "stdout",
     "output_type": "stream",
     "text": [
      "The sum of the digits of 4 is 4\n"
     ]
    }
   ],
   "source": [
    "from functools import reduce\n",
    "\n",
    "# Function to add two numbers\n",
    "def add(x, y):\n",
    "    return x + y\n",
    "\n",
    "# Input: Get a number as a string\n",
    "input_number = input(\"Enter a number: \")\n",
    "\n",
    "# Convert the number to a list of its digits as integers\n",
    "digits = [int(digit) for digit in input_number if digit.isdigit()]\n",
    "\n",
    "# Use reduce() to find the sum of the digits\n",
    "sum_of_digits = reduce(add, digits)\n",
    "\n",
    "# Print the result\n",
    "print(f\"The sum of the digits of {input_number} is {sum_of_digits}\")\n",
    "\n",
    "\n"
   ]
  },
  {
   "cell_type": "code",
   "execution_count": null,
   "id": "3a975cd3-b860-4d09-b1e9-9b803f57a9b6",
   "metadata": {},
   "outputs": [],
   "source": [
    "1.Explain the purpose of the `filter()` function in Python and provide an example of how it can be used to filter elements from an iterable."
   ]
  },
  {
   "cell_type": "code",
   "execution_count": null,
   "id": "42648991-0094-4da6-a1a1-217cad4cd2d2",
   "metadata": {},
   "outputs": [],
   "source": [
    "    The filter() function in Python is used to filter elements from an iterable (such as a list, tuple, or set) \n",
    "    based on a specified function. \n",
    "    It constructs an iterator from elements of the iterable for which the function returns True"
   ]
  },
  {
   "cell_type": "code",
   "execution_count": null,
   "id": "8dd7ba51-64de-4555-ae52-8ded495ec257",
   "metadata": {},
   "outputs": [],
   "source": [
    "2.Write a Python program that uses the `filter()` function to select even numbers from a list of integers."
   ]
  },
  {
   "cell_type": "code",
   "execution_count": null,
   "id": "a093acf5-dbe1-4d1e-ae01-e4103b84ad15",
   "metadata": {},
   "outputs": [],
   "source": [
    "    # List of integers\n",
    "numbers = [1, 2, 3, 4, 5, 6, 7, 8, 9, 10]\n",
    "\n",
    "# Custom function to filter even numbers\n",
    "def is_even(number):\n",
    "    return number % 2 == 0\n",
    "\n",
    "# Use filter() to select even numbers\n",
    "even_numbers = list(filter(is_even, numbers))\n",
    "print(\"Even Numbers:\", even_numbers)\n"
   ]
  },
  {
   "cell_type": "code",
   "execution_count": null,
   "id": "b433e558-bb84-40d3-bad0-a68d02fdb868",
   "metadata": {},
   "outputs": [],
   "source": [
    "3.  Create a Python program that uses the `filter()` function to select names that start with a specific letter from a list of strings."
   ]
  },
  {
   "cell_type": "code",
   "execution_count": null,
   "id": "6c83403a-c688-40bf-87c9-f2b94dd74bdc",
   "metadata": {},
   "outputs": [],
   "source": [
    "    # List of strings (names)\n",
    "names = [\"Alice\", \"Bob\", \"Charlie\", \"David\", \"Eva\"]\n",
    "\n",
    "# Custom function to filter names starting with \"A\"\n",
    "def starts_with_a(name):\n",
    "    return name[0].lower() == \"a\"\n",
    "\n",
    "# Use filter() to select names starting with \"A\"\n",
    "selected_names = list(filter(starts_with_a, names))\n",
    "print(\"Names starting with 'A':\", selected_names)\n"
   ]
  },
  {
   "cell_type": "code",
   "execution_count": null,
   "id": "52d561d3-ff97-4d76-8e52-ee8c96918a71",
   "metadata": {},
   "outputs": [],
   "source": [
    "4.Write a Python program that uses the `filter()` function to select prime numbers from a list of integers."
   ]
  },
  {
   "cell_type": "code",
   "execution_count": null,
   "id": "7e7f9edd-d461-4d55-b5b0-8ec9e3c1657d",
   "metadata": {},
   "outputs": [],
   "source": [
    "    # Custom function to check if a number is prime\n",
    "def is_prime(number):\n",
    "    if number <= 1:\n",
    "        return False\n",
    "    for i in range(2, int(number**0.5) + 1):\n",
    "        if number % i == 0:\n",
    "            return False\n",
    "    return True\n",
    "\n",
    "# List of integers\n",
    "numbers = [2, 3, 4, 5, 6, 7, 8, 9, 10]\n",
    "\n",
    "# Use filter() to select prime numbers\n",
    "prime_numbers = list(filter(is_prime, numbers))\n",
    "print(\"Prime Numbers:\", prime_numbers)\n"
   ]
  },
  {
   "cell_type": "code",
   "execution_count": null,
   "id": "309e89cf-aefb-45ec-aba4-942dea738386",
   "metadata": {},
   "outputs": [],
   "source": [
    " 5.How can you use the `filter()` function to remove None values from a list in Python?   "
   ]
  },
  {
   "cell_type": "code",
   "execution_count": null,
   "id": "2736d8f1-5fa7-4af5-ad32-d4b7f9200559",
   "metadata": {},
   "outputs": [],
   "source": [
    "    # List with None values\n",
    "values = [1, None, 2, None, 3, 4, None, 5]\n",
    "\n",
    "# Use filter() to remove None values\n",
    "filtered_values = list(filter(lambda x: x is not None, values))\n",
    "print(\"Filtered Values (without None):\", filtered_values)\n"
   ]
  },
  {
   "cell_type": "code",
   "execution_count": null,
   "id": "5d653bd2-ac9c-4dae-ba18-0dfb65304b25",
   "metadata": {},
   "outputs": [],
   "source": [
    "6.Create a Python program that uses `filter()` to select words longer than a certain length from a list of strings."
   ]
  },
  {
   "cell_type": "code",
   "execution_count": null,
   "id": "b2da1db3-e1f6-4130-8787-8e52ae57dee8",
   "metadata": {},
   "outputs": [],
   "source": [
    "# List of strings\n",
    "words = [\"apple\", \"banana\", \"kiwi\", \"orange\", \"grape\"]\n",
    "\n",
    "# Custom function to filter words longer than 5 characters\n",
    "filtered_words = list(filter(lambda word: len(word) > 5, words))\n",
    "print(\"Words longer than 5 characters:\", filtered_words)\n",
    "    "
   ]
  },
  {
   "cell_type": "code",
   "execution_count": null,
   "id": "4460d2a0-b261-4fbc-8293-16c67231305c",
   "metadata": {},
   "outputs": [],
   "source": [
    "7. Write a Python program that uses the `filter()` function to select elements greater than a specified threshold from a list of values."
   ]
  },
  {
   "cell_type": "code",
   "execution_count": 11,
   "id": "3d6e2a7e-6efa-46c7-b706-0da6555d8bf6",
   "metadata": {},
   "outputs": [
    {
     "name": "stdout",
     "output_type": "stream",
     "text": [
      "Values greater than 20: [25, 30, 40]\n"
     ]
    }
   ],
   "source": [
    "# List of values\n",
    "values = [10, 25, 5, 30, 15, 8, 40]\n",
    "\n",
    "# Custom function to filter values greater than 20\n",
    "threshold = 20\n",
    "filtered_values = list(filter(lambda x: x > threshold, values))\n",
    "print(f\"Values greater than {threshold}:\", filtered_values)\n",
    "    "
   ]
  },
  {
   "cell_type": "code",
   "execution_count": 2,
   "id": "fca5f7ab-2f7d-4abe-b7fc-e6d1830f6a64",
   "metadata": {},
   "outputs": [],
   "source": [
    " \n",
    "    \n",
    "    #Recursion:-\n",
    "    \n",
    "    "
   ]
  },
  {
   "cell_type": "code",
   "execution_count": 17,
   "id": "22d2fa22-3e04-4c9f-abc8-939e1bc96a4a",
   "metadata": {},
   "outputs": [],
   "source": [
    "#1.Explain the concept of recursion in Python. How does it differ from iteration?"
   ]
  },
  {
   "cell_type": "code",
   "execution_count": null,
   "id": "0249dc40-b2ab-42c2-9986-8038ab3b2570",
   "metadata": {},
   "outputs": [],
   "source": []
  },
  {
   "cell_type": "code",
   "execution_count": 18,
   "id": "7305c564-5d28-4cd3-95bf-b73e734912fb",
   "metadata": {},
   "outputs": [],
   "source": [
    "#2.Write a Python program to calculate the factorial of a number using recursion."
   ]
  },
  {
   "cell_type": "code",
   "execution_count": null,
   "id": "2a8deae0-6636-4864-846d-b557ff1e7e7b",
   "metadata": {},
   "outputs": [],
   "source": [
    "def fac(n):\n",
    "    if n == 0:\n",
    "        return 1\n",
    "    else:\n",
    "        return n * fac(n - 1)\n",
    "\n",
    "n = int(input(\"Enter the number: \"))\n",
    "result = fac(n)\n",
    "print(f\"The factorial of {n} is {result}\")\n"
   ]
  },
  {
   "cell_type": "code",
   "execution_count": null,
   "id": "ad2f85da-4564-4f55-be33-6a35bef32cee",
   "metadata": {},
   "outputs": [],
   "source": [
    "3.Create a recursive Python function to find the nth Fibonacci number."
   ]
  },
  {
   "cell_type": "code",
   "execution_count": null,
   "id": "de396396-4fdc-481f-880e-2abed21a7798",
   "metadata": {},
   "outputs": [],
   "source": [
    "def fibo(n):\n",
    "    if n<=1:\n",
    "        return n\n",
    "    else:\n",
    "        return fibo(n-1) + fibo(n-2)\n",
    "    \n",
    "n = int(input(\"enter the number\"))\n",
    "result = fibo(n)\n",
    "print(result)"
   ]
  },
  {
   "cell_type": "code",
   "execution_count": null,
   "id": "ad4689fb-0581-4ce6-806b-57ca43cd96e0",
   "metadata": {},
   "outputs": [],
   "source": [
    "#4.Write a recursive Python function to calculate the sum of all elements in a list."
   ]
  },
  {
   "cell_type": "code",
   "execution_count": 3,
   "id": "71b48845-ea64-4834-b7a7-30b81130e3ee",
   "metadata": {},
   "outputs": [
    {
     "name": "stdout",
     "output_type": "stream",
     "text": [
      "The sum of all elements in the list is: 15\n"
     ]
    }
   ],
   "source": [
    "def recursive_sum(arr):\n",
    "    if not arr:\n",
    "        return 0  # Base case: an empty list has a sum of 0\n",
    "    else:\n",
    "        return arr[0] + recursive_sum(arr[1:])\n",
    "        \n",
    "\n",
    "# Example usage:\n",
    "my_list = [1, 2, 3, 4, 5]\n",
    "result = recursive_sum(my_list)\n",
    "print(\"The sum of all elements in the list is:\", result)"
   ]
  },
  {
   "cell_type": "code",
   "execution_count": null,
   "id": "aecaa1fd-a0cd-4dde-a13a-b94ef6a5cca0",
   "metadata": {},
   "outputs": [],
   "source": [
    "5. How can you prevent a recursive function from running indefinitely, causing a stack overflow\n",
    "error?"
   ]
  },
  {
   "cell_type": "code",
   "execution_count": null,
   "id": "0ae34a0a-704c-4b78-93cc-ee9511861d13",
   "metadata": {},
   "outputs": [],
   "source": []
  },
  {
   "cell_type": "code",
   "execution_count": null,
   "id": "9cc41d1e-e01c-4e91-9819-4fd1499ff50d",
   "metadata": {},
   "outputs": [],
   "source": [
    "#6. Create a recursive Python function to find the greatest common divisor (GCD) of two numbers\n",
    "#using the Euclidean algorithm."
   ]
  },
  {
   "cell_type": "code",
   "execution_count": null,
   "id": "39af2b0b-aaf0-444a-98d6-ff220f15167f",
   "metadata": {},
   "outputs": [],
   "source": []
  },
  {
   "cell_type": "code",
   "execution_count": null,
   "id": "b3171321-f65d-47ed-977d-6edfd3275be7",
   "metadata": {},
   "outputs": [],
   "source": [
    "#7. Write a recursive Python function to reverse a string."
   ]
  },
  {
   "cell_type": "code",
   "execution_count": 4,
   "id": "0da209bc-9e76-4322-a05d-ac548e604163",
   "metadata": {},
   "outputs": [
    {
     "name": "stdout",
     "output_type": "stream",
     "text": [
      "t e e n i v\n"
     ]
    }
   ],
   "source": [
    "def rev(str,n):\n",
    "    if n == 0:\n",
    "        print(str[0])\n",
    "    else:\n",
    "        print(str[n],end=\" \")\n",
    "        rev(str,n-1)\n",
    "str = \"vineet\"\n",
    "rev(str,len(str)-1)"
   ]
  },
  {
   "cell_type": "code",
   "execution_count": 5,
   "id": "6b4a161f-c076-4711-9410-9b431651b1e8",
   "metadata": {},
   "outputs": [],
   "source": [
    "#8. Create a recursive Python function to calculate the power of a number (x^n)."
   ]
  },
  {
   "cell_type": "code",
   "execution_count": 8,
   "id": "1556642d-eaa5-4a3f-bc83-9f1dc5dc7aa7",
   "metadata": {},
   "outputs": [
    {
     "data": {
      "text/plain": [
       "16"
      ]
     },
     "execution_count": 8,
     "metadata": {},
     "output_type": "execute_result"
    }
   ],
   "source": [
    "def pow(base,exponent):\n",
    "    if exponent == 0:\n",
    "        return 1\n",
    "    else:\n",
    "        return base*pow(base,exponent-1)\n",
    "pow(2,4)"
   ]
  },
  {
   "cell_type": "code",
   "execution_count": null,
   "id": "b04c3574-198f-4d9f-bef8-655eb62ef133",
   "metadata": {},
   "outputs": [],
   "source": [
    "9. Write a recursive Python function to find all permutations of a given string."
   ]
  },
  {
   "cell_type": "code",
   "execution_count": 10,
   "id": "1637224c-74b6-4a3b-87a9-fa78ebc25efe",
   "metadata": {},
   "outputs": [
    {
     "name": "stdout",
     "output_type": "stream",
     "text": [
      "ABC\n",
      "ACB\n",
      "BAC\n",
      "BCA\n",
      "CBA\n",
      "CAB\n"
     ]
    }
   ],
   "source": [
    "def toString(List):\n",
    "\treturn ''.join(List)\n",
    "\n",
    "def permute(a, l, r):\n",
    "\tif l == r:\n",
    "\t\tprint(toString(a))\n",
    "\telse:\n",
    "\t\tfor i in range(l, r):\n",
    "\t\t\ta[l], a[i] = a[i], a[l]\n",
    "\t\t\tpermute(a, l+1, r)\n",
    "\t\t\ta[l], a[i] = a[i], a[l] # backtrack\n",
    "\n",
    "\n",
    "# Driver code\n",
    "string = \"ABC\"\n",
    "n = len(string)\n",
    "a = list(string)\n",
    "\n",
    "# Function call\n",
    "permute(a, 0, n)\n",
    "\n",
    "# This code is contributed by Bhavya Jain\n",
    "\n",
    "        "
   ]
  },
  {
   "cell_type": "code",
   "execution_count": null,
   "id": "46cbff26-5954-435e-be12-7deef5da93e1",
   "metadata": {},
   "outputs": [],
   "source": [
    "#10. Write a recursive Python function to check if a string is a palindrome."
   ]
  },
  {
   "cell_type": "code",
   "execution_count": 11,
   "id": "7f54b17e-9856-4325-aa89-66a6b571bc34",
   "metadata": {},
   "outputs": [
    {
     "name": "stdin",
     "output_type": "stream",
     "text": [
      "enter the string nitin\n"
     ]
    },
    {
     "name": "stdout",
     "output_type": "stream",
     "text": [
      "not palindrome\n"
     ]
    }
   ],
   "source": [
    "def palc(str,s,e):\n",
    "  if s == e:\n",
    "    return True\n",
    "  if str[s] != str[e]:\n",
    "    return False\n",
    "  if s<e:\n",
    "    return (str,s+1,e-1)\n",
    "  return True\n",
    "\n",
    "\n",
    "\n",
    "def ispallindrome(str):\n",
    "  n = len(str)-1\n",
    "  if n == 0:\n",
    "    return True\n",
    "  else:\n",
    "    return palc(str,0,n-1)\n",
    "str = input(\"enter the string\")\n",
    "if ispallindrome(str):\n",
    "  print(\"palindrome\")\n",
    "else:\n",
    "  print(\"not palindrome\")"
   ]
  },
  {
   "cell_type": "code",
   "execution_count": 12,
   "id": "564257d5-9e7c-4093-838b-2fc4df98a35b",
   "metadata": {},
   "outputs": [],
   "source": [
    "#11. Create a recursive Python function to generate all possible combinations of a list of elements."
   ]
  },
  {
   "cell_type": "code",
   "execution_count": 13,
   "id": "fad1ce61-d02d-4a50-a149-c47a8762e000",
   "metadata": {},
   "outputs": [
    {
     "name": "stdout",
     "output_type": "stream",
     "text": [
      "[[1, 2], [1, 3], [2, 3]]\n"
     ]
    }
   ],
   "source": [
    "def result(list1, index, r, temp, ans):\n",
    "    if len(temp) == r:\n",
    "        ans.append(temp.copy())  # Use copy() to create a new list\n",
    "        return\n",
    "\n",
    "    if index == len(list1):\n",
    "        return\n",
    "\n",
    "    # Include the current element and move to the next index\n",
    "    temp.append(list1[index])\n",
    "    result(list1, index + 1, r, temp, ans)\n",
    "    temp.pop()  # Remove the last element (backtrack)\n",
    "\n",
    "    # Exclude the current element and move to the next index\n",
    "    result(list1, index + 1, r, temp, ans)\n",
    "\n",
    "list1 = [1, 2, 3]\n",
    "r = 2\n",
    "ans1 = []\n",
    "result(list1, 0, r, [], ans1)\n",
    "print(ans1)\n",
    "\n"
   ]
  },
  {
   "cell_type": "code",
   "execution_count": null,
   "id": "7a1f181a-7282-4d79-a8a0-3e74a8786083",
   "metadata": {},
   "outputs": [],
   "source": [
    "function\n"
   ]
  },
  {
   "cell_type": "code",
   "execution_count": 3,
   "id": "9b44f691-649c-4699-8ee0-11143621cbc9",
   "metadata": {},
   "outputs": [],
   "source": [
    "#1.What is a function in Python, and why is it used?"
   ]
  },
  {
   "cell_type": "code",
   "execution_count": null,
   "id": "0e751fda-7bd4-4a4f-a97d-ab3f0931d824",
   "metadata": {},
   "outputs": [],
   "source": [
    "In Python, a function is a named block of code that performs a specific task or a set of tasks. \n",
    "Functions are a fundamental building block in Python programming and are used to organize code into manageable pieces.\n",
    "Functions are defined using the `def` keyword, followed by the function name, a pair of parentheses `()`, and a colon `:`. \n",
    "The function body is indented and contains the code that defines what the function does.\n",
    "\n",
    "Functions are used for several reasons:\n",
    "\n",
    "1. **Modularity**: \n",
    "    Functions allow you to break down your program into smaller, manageable pieces. \n",
    "    Each function can perform a specific task, making your code easier to understand, read, and debug.\n",
    "\n",
    "2. **Reuse**: Once a function is defined, it can be called multiple times from different parts of the program. \n",
    "This reusability reduces the need to rewrite the same code, making the development process more efficient.\n",
    "\n",
    "3. **Readability**: Functions improve the readability of your code. \n",
    "Instead of having a long and complex script, functions allow you to give meaningful names to different parts of your code,\n",
    "making it easier to understand the purpose of each block.\n",
    "\n",
    "4. **Abstraction**: Functions can be seen as black boxes. \n",
    "You don't need to know how a function is implemented internally to use it. \n",
    "You only need to know what the function does and what parameters it accepts.\n",
    "\n",
    "5. **Parameter Passing**: Functions can accept parameters, \n",
    "allowing you to pass values into the function. This enables you to create dynamic and \n",
    "flexible functions that can operate on different data.\n",
    "\n",
    "6. **Return Values**: Functions can return values after performing their tasks. \n",
    "This allows functions to compute results and provide those results back to the caller, \n",
    "enabling further processing based on the returned values.\n",
    "\n",
    "Here's an example of a simple Python function:\n",
    "\n",
    "```python\n",
    "def greet(name):\n",
    "    \"\"\"This function greets the person passed in as a parameter.\"\"\"\n",
    "    print(\"Hello, \" + name + \"!\")\n",
    "\n",
    "# Call the function\n",
    "greet(\"Alice\")\n",
    "```\n",
    "\n",
    "In this example, `greet` is a function that takes a parameter `name` \n",
    "and prints a greeting message using the provided name. \n",
    "Functions can have more complex logic and can return values based on the input parameters and the operations performed inside the function."
   ]
  },
  {
   "cell_type": "code",
   "execution_count": null,
   "id": "b15e0093-050a-4221-9159-57aed8e0a869",
   "metadata": {},
   "outputs": [],
   "source": [
    "2.How do you define a function in Python? Provide an example."
   ]
  },
  {
   "cell_type": "code",
   "execution_count": 3,
   "id": "acaa8365-7dc5-4cb4-816e-9028f35653c4",
   "metadata": {},
   "outputs": [
    {
     "data": {
      "text/plain": [
       "\"In Python, you can define a function using the def keyword, followed by the function name, a pair of parentheses (),\\nand a colon :. The function body is indented and contains the code that the function will execute when called. \\nHere's the basic syntax for defining a function in Python:def keyword used to define function.\\ndef add(a,b):\\n    result = a+b\\n    return result\\nsum = add(5,6)\\nprint(sum)\""
      ]
     },
     "execution_count": 3,
     "metadata": {},
     "output_type": "execute_result"
    }
   ],
   "source": [
    "\n",
    "'''In Python, you can define a function using the def keyword, followed by the function name, a pair of parentheses (),\n",
    "and a colon :. The function body is indented and contains the code that the function will execute when called. \n",
    "Here's the basic syntax for defining a function in Python:def keyword used to define function.\n",
    "def add(a,b):\n",
    "    result = a+b\n",
    "    return result\n",
    "sum = add(5,6)\n",
    "print(sum)'''\n"
   ]
  },
  {
   "cell_type": "code",
   "execution_count": 4,
   "id": "87f1b05f-21cf-423e-9d84-7db75642485a",
   "metadata": {},
   "outputs": [],
   "source": [
    "#3.Explain the difference between a function definition and a function call."
   ]
  },
  {
   "cell_type": "code",
   "execution_count": null,
   "id": "b00d4674-f0a8-4c8c-8797-df7b1328c728",
   "metadata": {},
   "outputs": [],
   "source": [
    "Function Definition:\n",
    "Definition: A function definition specifies what the function does. It contains the actual code that gets executed when the function is called.\n",
    "\n",
    "Syntax: The function definition begins with the def keyword, followed by the function name, \n",
    "parentheses ( ) containing any parameters the function accepts, a colon :, and an indented block of code.\n",
    "\n",
    "Purpose: It defines the function, giving it a name and specifying the parameters it can accept and the operations it will perform.\n",
    "\n",
    "Function Call:\n",
    "Definition: A function call is an instruction to execute the code inside a function. When a function is called,\n",
    "the program jumps to the function definition, executes the code inside it, \n",
    "and then returns to the point where the function was called.\n",
    "\n",
    "Syntax: The function call consists of the function name followed by parentheses ( ) containing any required arguments or parameters.\n",
    "\n",
    "Purpose: It invokes the function, causing the code within the function to run and potentially produce a result."
   ]
  },
  {
   "cell_type": "code",
   "execution_count": null,
   "id": "733983ae-d9a7-43e6-b998-11e6942fed79",
   "metadata": {},
   "outputs": [],
   "source": [
    "4.Write a Python program that defines a function to calculate the sum of two numbers and then calls the function"
   ]
  },
  {
   "cell_type": "code",
   "execution_count": 5,
   "id": "6e593178-090e-4b9d-99a5-339fd02d9355",
   "metadata": {},
   "outputs": [
    {
     "name": "stdout",
     "output_type": "stream",
     "text": [
      "11\n"
     ]
    }
   ],
   "source": [
    "def sum(a,b):\n",
    "    result = 0\n",
    "    result = a + b\n",
    "    return result\n",
    "ans = sum(4,7)\n",
    "print(ans)"
   ]
  },
  {
   "cell_type": "code",
   "execution_count": null,
   "id": "7902272f-65b5-40af-8b87-126695c9b0d1",
   "metadata": {},
   "outputs": [],
   "source": [
    "5.What is a function signature, and what information does it typically include?"
   ]
  },
  {
   "cell_type": "code",
   "execution_count": null,
   "id": "6c4b1931-af2b-44fb-8adf-cb74967ad4db",
   "metadata": {},
   "outputs": [],
   "source": [
    "\n",
    "A function signature, also known as a function prototype, refers to the declaration of a \n",
    "function that specifies the function's name, the number and types of its parameters, and its return type. \n",
    "It provides a summary of the function's interface without including the actual function body or implementation details. \n",
    "Function signatures are essential in many programming languages for several reasons:"
   ]
  },
  {
   "cell_type": "code",
   "execution_count": 5,
   "id": "385bb481-56c9-426d-88eb-daba2454224a",
   "metadata": {},
   "outputs": [
    {
     "data": {
      "text/plain": [
       "13"
      ]
     },
     "execution_count": 5,
     "metadata": {},
     "output_type": "execute_result"
    }
   ],
   "source": [
    "def calculate_sum(a: int, b: int) -> int:\n",
    "    \"\"\"This function takes two integers as input and returns their sum.\"\"\"\n",
    "    return a + b\n",
    "calculate_sum(6,7)\n"
   ]
  },
  {
   "cell_type": "code",
   "execution_count": 6,
   "id": "6efbe8d6-6c5e-4f19-a9bf-604754ac08a3",
   "metadata": {},
   "outputs": [],
   "source": [
    "#6.Create a Python function that takes two arguments and returns their product."
   ]
  },
  {
   "cell_type": "code",
   "execution_count": 11,
   "id": "ba7e2830-d746-48a7-adb4-69309412d7ec",
   "metadata": {},
   "outputs": [
    {
     "name": "stdout",
     "output_type": "stream",
     "text": [
      "40\n"
     ]
    }
   ],
   "source": [
    "def prod(a,b):\n",
    "    result = 1\n",
    "    result = a*b;\n",
    "    return result\n",
    "ans = prod(5,8)\n",
    "print(ans)"
   ]
  },
  {
   "cell_type": "code",
   "execution_count": 13,
   "id": "0a693409-b98d-403e-91bd-6fe757293abb",
   "metadata": {},
   "outputs": [],
   "source": [
    "   \n",
    "    \n",
    "    Function Parameters and Arguments:\n",
    "\n",
    "    "
   ]
  },
  {
   "cell_type": "code",
   "execution_count": null,
   "id": "6891c519-86d5-4aca-937b-c30fa5f7e4c7",
   "metadata": {},
   "outputs": [],
   "source": [
    "1.Explain the concepts of formal parameters and actual arguments in Python functions."
   ]
  },
  {
   "cell_type": "code",
   "execution_count": null,
   "id": "88bde243-1b20-4f8b-b0c0-b50dd4b75805",
   "metadata": {},
   "outputs": [],
   "source": [
    "Formal Parameters:\n",
    "\n",
    "Formal parameters are placeholders or variables declared in the function definition to receive input values when the function is called.\n",
    "They are essentially the names used inside the function to refer to the values passed as arguments when the function is invoked.\n",
    "Formal parameters are defined within the parentheses of a function definition and can have default values.\n",
    "\n",
    "Actual Arguments (Arguments):\n",
    "\n",
    "Actual arguments, often referred to simply as \"arguments,\" are the values or expressions that are passed to a function when it is called.\n",
    "These values are provided within the parentheses of the function call and are assigned to the corresponding \n",
    "formal parameters defined in the function's signature.\n",
    "There are several ways to pass arguments to a function, including positional arguments, keyword arguments, and default arguments."
   ]
  },
  {
   "cell_type": "code",
   "execution_count": null,
   "id": "6e5ae45a-73ed-4056-959c-c7c9ee1e3149",
   "metadata": {},
   "outputs": [],
   "source": [
    "2.Write a Python program that defines a function with default argument values."
   ]
  },
  {
   "cell_type": "code",
   "execution_count": 15,
   "id": "67e9ee77-6c6c-43f0-ae69-6413660af190",
   "metadata": {},
   "outputs": [
    {
     "name": "stdout",
     "output_type": "stream",
     "text": [
      "Hello, Guest!\n",
      "Hi, Alice!\n"
     ]
    }
   ],
   "source": [
    "\n",
    "def greet(name=\"Guest\", greeting=\"Hello\"):\n",
    "\n",
    "    return f\"{greeting}, {name}!\"\n",
    "\n",
    "# Call the function with default arguments/*\n",
    "default_greeting = greet()\n",
    "print(default_greeting)  # Output: \"Hello, Guest!\"\n",
    "\n",
    "# Call the function with custom arguments\n",
    "custom_greeting = greet(\"Alice\", \"Hi\")\n",
    "print(custom_greeting)  # Output: \"Hi, Alice!\"\n"
   ]
  },
  {
   "cell_type": "code",
   "execution_count": 16,
   "id": "df2000f1-92c5-4f6b-9ab2-96cf2c2fe2db",
   "metadata": {},
   "outputs": [],
   "source": [
    "3.How do you use keyword arguments in Python function calls? Provide an example."
   ]
  },
  {
   "cell_type": "code",
   "execution_count": null,
   "id": "a5d02ebf-bd25-49bf-9c63-6b653ab6bccf",
   "metadata": {},
   "outputs": [],
   "source": [
    "these arguments are passed to the function with name-value pair so keyword argument can identify the format argument by their names.\n",
    "the keyword argument's name and formal argument's name must match"
   ]
  },
  {
   "cell_type": "code",
   "execution_count": 17,
   "id": "99dd4d64-3cc0-4336-a50d-5f9b73a34e6d",
   "metadata": {},
   "outputs": [
    {
     "name": "stdout",
     "output_type": "stream",
     "text": [
      "ankit 62\n"
     ]
    }
   ],
   "source": [
    "def show(name,age):\n",
    "    print(name,age)\n",
    "show(age = 62,name = \"ankit\")"
   ]
  },
  {
   "cell_type": "code",
   "execution_count": 18,
   "id": "d66a3545-e974-4802-8551-c8bb90fb8a38",
   "metadata": {},
   "outputs": [],
   "source": [
    "#4. Create a Python function that accepts a variable number of arguments and calculates their sum."
   ]
  },
  {
   "cell_type": "code",
   "execution_count": 19,
   "id": "3fbd44b1-4ba7-42c5-b779-1966aa15ef25",
   "metadata": {},
   "outputs": [
    {
     "name": "stdout",
     "output_type": "stream",
     "text": [
      "10\n",
      "11\n"
     ]
    }
   ],
   "source": [
    "def sum(*args):\n",
    "    total = 0\n",
    "    for i in args:\n",
    "        total = total + i\n",
    "    return total\n",
    "result = sum(1,2,3,4)\n",
    "result1 = sum(1,10)\n",
    "print(result)\n",
    "print(result1)\n",
    "    "
   ]
  },
  {
   "cell_type": "code",
   "execution_count": 20,
   "id": "e2150a13-8b2d-47b2-8a3c-3927e6a6187c",
   "metadata": {},
   "outputs": [],
   "source": [
    "#5. What is the purpose of the `*args` and `**kwargs` syntax in function parameter lists?"
   ]
  },
  {
   "cell_type": "code",
   "execution_count": null,
   "id": "be0703cb-f41c-4b73-893d-1152869d5fbd",
   "metadata": {},
   "outputs": [],
   "source": [
    "*args (Arbitrary Positional Arguments):\n",
    "\n",
    "*args is used to pass a variable number of non-keyword (positional) arguments to a function.\n",
    "It allows you to create functions that can accept any number of positional arguments.\n",
    "Inside the function, *args collects these arguments into a tuple, which you can then iterate over or process as needed.\n",
    "It's often used when you don't know in advance how many arguments will be passed to the function, like in mathematical operations or utility functions.\n",
    "\n",
    "**kwargs (Arbitrary Keyword Arguments):\n",
    "\n",
    "**kwargs is used to pass a variable number of keyword arguments (key-value pairs) to a function.\n",
    "It allows you to create functions that can accept any number of keyword arguments.\n",
    "Inside the function, **kwargs collects these arguments into a dictionary, where the keys are the argument names, and the values are the corresponding \n",
    "\n",
    "values.\n",
    "It's often used when you want to provide optional parameters or configuration settings to a function."
   ]
  },
  {
   "cell_type": "code",
   "execution_count": null,
   "id": "6ed657c0-6580-44af-ae85-0ae74935aafe",
   "metadata": {},
   "outputs": [],
   "source": [
    "\n",
    "\n",
    "       Return Values and Scoping:\n",
    "    \n",
    "    \n",
    "    \n",
    "    "
   ]
  },
  {
   "cell_type": "code",
   "execution_count": null,
   "id": "3732e36f-6cd0-4a53-879d-102c95686a20",
   "metadata": {},
   "outputs": [],
   "source": [
    "1. Describe the role of the `return` statement in Python functions and provide examples."
   ]
  },
  {
   "cell_type": "code",
   "execution_count": null,
   "id": "86e4fd28-bd16-4b05-aae8-4d2c74ea1a62",
   "metadata": {},
   "outputs": [],
   "source": [
    "The return statement in Python functions is used to specify what value or values the function should output when \n",
    "it's called. It allows a function to compute a result and send that result back to the caller,\n",
    "which can then store, manipulate, or use that value as needed.\n",
    "def sum(a,b):\n",
    "    result = 0\n",
    "    result = a +b\n",
    "    return result\n",
    "sum(4,6)"
   ]
  },
  {
   "cell_type": "code",
   "execution_count": 22,
   "id": "0027fa06-2276-4da3-978a-87ea4a912b66",
   "metadata": {},
   "outputs": [],
   "source": [
    "2. Explain the concept of variable scope in Python, including local and global variables."
   ]
  },
  {
   "cell_type": "code",
   "execution_count": null,
   "id": "4ec20dda-728e-4081-b039-eae0634049c8",
   "metadata": {},
   "outputs": [],
   "source": [
    "Python Global variables are those which are not defined inside any function and have a global scope\n",
    "whereas Python local variables are those which are defined inside a function and \n",
    "their scope is limited to that function only."
   ]
  },
  {
   "cell_type": "code",
   "execution_count": null,
   "id": "fefeab53-5f57-42b2-9052-a33eb0bb451b",
   "metadata": {},
   "outputs": [],
   "source": [
    "3. Write a Python program that demonstrates the use of global variables within functions."
   ]
  },
  {
   "cell_type": "code",
   "execution_count": 23,
   "id": "77bdbb2c-d3f7-4464-aad9-99b1da4bb10b",
   "metadata": {},
   "outputs": [],
   "source": [
    "#These are those which are defined outside any function and which are accessible throughout the program, i.e., inside and outside of every function. \n",
    "#Let’s see how to create a Python global variable.\n",
    "\n",
    "# This function uses global variable s\n",
    "def f():\n",
    "    print(\"Inside Function\", s)\n",
    " \n",
    "# Global scope\n",
    "s = \"I love Geeksforgeeks\"\n",
    "f()\n",
    "print(\"Outside Function\", s)\n",
    "    "
   ]
  },
  {
   "cell_type": "code",
   "execution_count": null,
   "id": "dc873fdd-63f6-4252-aede-72e6abada7c1",
   "metadata": {},
   "outputs": [],
   "source": [
    "4. Create a Python function that calculates the factorial of a number and returns it."
   ]
  },
  {
   "cell_type": "code",
   "execution_count": 25,
   "id": "59157aa2-2670-4005-899a-53d3c135b9d5",
   "metadata": {},
   "outputs": [
    {
     "data": {
      "text/plain": [
       "120"
      ]
     },
     "execution_count": 25,
     "metadata": {},
     "output_type": "execute_result"
    }
   ],
   "source": [
    "def fact(n):\n",
    "    if n<=1:\n",
    "        return 1\n",
    "    return n*fact(n-1)\n",
    "fact(5)"
   ]
  },
  {
   "cell_type": "code",
   "execution_count": null,
   "id": "90849c04-00b2-47ee-affe-5a1eb2f3fb01",
   "metadata": {},
   "outputs": [],
   "source": [
    "5. How can you access variables defined outside a function from within the function?"
   ]
  },
  {
   "cell_type": "code",
   "execution_count": 26,
   "id": "3d002c01-11ba-402e-a228-cff63bc33479",
   "metadata": {},
   "outputs": [
    {
     "name": "stdout",
     "output_type": "stream",
     "text": [
      "Inside Function I love Geeksforgeeks\n",
      "Outside Function I love Geeksforgeeks\n"
     ]
    }
   ],
   "source": [
    "def f():\n",
    "    print(\"Inside Function\", s)\n",
    " \n",
    "# Global scope\n",
    "s = \"I love Geeksforgeeks\"\n",
    "f()\n",
    "print(\"Outside Function\", s)"
   ]
  },
  {
   "cell_type": "code",
   "execution_count": 27,
   "id": "ad1fb017-7c0f-4de0-8bc4-150e2a501043",
   "metadata": {},
   "outputs": [],
   "source": [
    "\n",
    "  \n",
    "    \n",
    "    #Lambda Functions and Higher-Order Functions:\n",
    "    \n",
    "    "
   ]
  },
  {
   "cell_type": "code",
   "execution_count": null,
   "id": "ce520927-81ed-4ef9-bb78-4d952fd877c6",
   "metadata": {},
   "outputs": [],
   "source": [
    "1. What are lambda functions in Python, and when are they typically used?"
   ]
  },
  {
   "cell_type": "code",
   "execution_count": null,
   "id": "1842604a-da1f-4d76-a651-75cf949001f3",
   "metadata": {},
   "outputs": [],
   "source": [
    "A lambda function is a small anonymous function.\n",
    "\n",
    "A lambda function can take any number of arguments, but can only have one expression."
   ]
  },
  {
   "cell_type": "code",
   "execution_count": 28,
   "id": "5d45e0a7-3fbc-4433-a15e-a59747de4ccb",
   "metadata": {},
   "outputs": [],
   "source": [
    "2. Write a Python program that uses lambda functions to sort a list of tuples based on the second\n",
    "element."
   ]
  },
  {
   "cell_type": "code",
   "execution_count": 35,
   "id": "129ebdeb-c00b-4f4c-b492-291f3b99b401",
   "metadata": {},
   "outputs": [
    {
     "name": "stdout",
     "output_type": "stream",
     "text": [
      "[(4, 1), (2, 2), (5, 3), (1, 5), (3, 8)]\n"
     ]
    }
   ],
   "source": [
    "# Sample list of tuples\n",
    "tuples_list = [(1, 5), (2, 2), (3, 8), (4, 1), (5, 3)]\n",
    "\n",
    "# Sort the list of tuples based on the second element using a lambda function\n",
    "sorted_list = sorted(tuples_list, key=lambda x: x[1])\n",
    "\n",
    "# Print the sorted list\n",
    "print(sorted_list)\n"
   ]
  },
  {
   "cell_type": "code",
   "execution_count": 29,
   "id": "b5ebf75a-a9a3-45d0-a49f-8f6581002d29",
   "metadata": {},
   "outputs": [],
   "source": [
    "#3. Explain the concept of higher-order functions in Python, and provide an example."
   ]
  },
  {
   "cell_type": "code",
   "execution_count": 30,
   "id": "b9ae5546-750d-4e22-a7dc-cc37be8abca1",
   "metadata": {},
   "outputs": [],
   "source": [
    "#A Function is called higher order function .if it contain other function as a parameter or return a function as an output i.e, the function that \n",
    "#operate with another function are known as higher order function.\n"
   ]
  },
  {
   "cell_type": "code",
   "execution_count": 31,
   "id": "00d87e39-63db-4979-87e6-7cea251eb0c1",
   "metadata": {},
   "outputs": [
    {
     "name": "stdout",
     "output_type": "stream",
     "text": [
      "20 is not prime\n",
      "21 is not prime\n",
      "22 is not prime\n",
      "23 is prime\n",
      "24 is not prime\n",
      "25 is not prime\n",
      "26 is not prime\n",
      "27 is not prime\n",
      "28 is not prime\n",
      "29 is prime\n"
     ]
    }
   ],
   "source": [
    "def prime(x):\n",
    "    s =0\n",
    "    for i in range(2,x//2):\n",
    "        if x%i == 0:\n",
    "            s =1\n",
    "    if s==0:\n",
    "        return \"prime\"\n",
    "    else:\n",
    "        return \"not prime\"\n",
    "def primerange(start,end,func):\n",
    "    for i in range(start,end):\n",
    "        res = func(i)\n",
    "        print(i,'is',res)\n",
    "        \n",
    "primerange(20,30,prime)"
   ]
  },
  {
   "cell_type": "code",
   "execution_count": null,
   "id": "19f87354-c199-4d7f-b64e-55785a99d067",
   "metadata": {},
   "outputs": [],
   "source": [
    "4. Create a Python function that takes a list of numbers and a function as arguments, applying the\n",
    "function to each element in the list."
   ]
  },
  {
   "cell_type": "code",
   "execution_count": 33,
   "id": "6c5398be-a229-4be5-94e0-fa027f2d0528",
   "metadata": {},
   "outputs": [
    {
     "name": "stdout",
     "output_type": "stream",
     "text": [
      "[1, 4, 9, 16, 25]\n"
     ]
    }
   ],
   "source": [
    "def apply_function_to_list(lst, func):\n",
    "    return [func(num) for num in lst]\n",
    "\n",
    "# Define a sample function to apply to the list elements\n",
    "def square(x):\n",
    "    return x ** 2\n",
    "\n",
    "# Sample list of numbers\n",
    "numbers = [1, 2, 3, 4, 5]\n",
    "\n",
    "# Apply the 'square' function to each element in the list\n",
    "result = apply_function_to_list(numbers, square)\n",
    "\n",
    "# Print the result\n",
    "print(result)  # Output: [1, 4, 9, 16, 25]\n",
    "\n"
   ]
  },
  {
   "cell_type": "code",
   "execution_count": 34,
   "id": "9d918eb5-f9e5-4c40-a077-7582f276c10e",
   "metadata": {},
   "outputs": [
    {
     "name": "stdout",
     "output_type": "stream",
     "text": [
      "[1, 4, 9, 16, 25]\n"
     ]
    }
   ],
   "source": [
    "# Define a function that applies another function to each element in a list using a for loop\n",
    "def apply_function_to_list(lst, func):\n",
    "    result = []\n",
    "    for num in lst:\n",
    "        result.append(func(num))\n",
    "    return result\n",
    "\n",
    "# Define a sample function to apply to the list elements\n",
    "def square(x):\n",
    "    return x ** 2\n",
    "\n",
    "# Sample list of numbers\n",
    "numbers = [1, 2, 3, 4, 5]\n",
    "\n",
    "# Apply the 'square' function to each element in the list\n",
    "result = apply_function_to_list(numbers, square)\n",
    "\n",
    "# Print the result\n",
    "print(result)  # Output: [1, 4, 9, 16\n"
   ]
  },
  {
   "cell_type": "code",
   "execution_count": 6,
   "id": "d73286b1-2686-41d0-817e-74725394b4e9",
   "metadata": {},
   "outputs": [],
   "source": [
    "\n",
    "\n",
    "    Built-in Functions:\n",
    "        \n",
    "        \n",
    "        \n",
    "        \n",
    "        "
   ]
  },
  {
   "cell_type": "code",
   "execution_count": 7,
   "id": "ad447ccf-040b-4a74-bf81-16f62a429eeb",
   "metadata": {},
   "outputs": [],
   "source": [
    "#1. Describe the role of built-in functions like `len()`, `max()`, and `min()` in Python."
   ]
  },
  {
   "cell_type": "code",
   "execution_count": null,
   "id": "a7bee87e-1c2f-4a24-9234-40c35c24b667",
   "metadata": {},
   "outputs": [],
   "source": [
    "Built-in functions like len(), max(), and min() in Python provide convenient \n",
    "ways to perform common operations on data structures like strings,\n",
    "lists, tuples, and other iterable objects. Here's a breakdown of their roles:\n",
    "1. len()\n",
    "Role: len() is used to determine the length or the number of items in an iterable object. \n",
    "It can be applied to strings, lists, tuples, sets, dictionaries, and other iterable data structures.\n",
    "string_length = len(\"Hello, World!\")  # Returns 13\n",
    "list_length = len([1, 2, 3, 4, 5])     # Returns 5\n",
    "2. max()\n",
    "Role: max() is used to find the largest item in an iterable or a series of arguments.\n",
    "\n",
    "max_value = max(3, 7, 1, 10)         # Returns 10\n",
    "max_char = max(\"hello\")              # Returns 'o'\n",
    "\n",
    "3. min()\n",
    "Role: min() is used to find the smallest item in an iterable or a series of arguments.\n",
    "Example:\n",
    "    min_value = min(3, 7, 1, 10)         # Returns 1\n",
    "    min_char = min(\"hello\")              # Returns 'e'\n"
   ]
  },
  {
   "cell_type": "code",
   "execution_count": null,
   "id": "65303f82-5ea5-4284-8805-666733a75ab3",
   "metadata": {},
   "outputs": [],
   "source": [
    "2. Write a Python program that uses the `map()` function to apply a function to each element of a\n",
    "list."
   ]
  },
  {
   "cell_type": "code",
   "execution_count": 8,
   "id": "00ac7dcb-9b8a-483c-b877-542375ba3e9b",
   "metadata": {},
   "outputs": [
    {
     "name": "stdout",
     "output_type": "stream",
     "text": [
      "Original Numbers: [1, 2, 3, 4, 5]\n",
      "Squared Numbers: [1, 4, 9, 16, 25]\n"
     ]
    }
   ],
   "source": [
    "def square(number):\n",
    "    return number**2\n",
    "numbers = [1, 2, 3, 4, 5]\n",
    "\n",
    "# Use map() to apply the square function to each element of the list\n",
    "squared_numbers = list(map(square, numbers))\n",
    "\n",
    "# Print the original and squared numbers\n",
    "print(\"Original Numbers:\", numbers)\n",
    "print(\"Squared Numbers:\", squared_numbers)"
   ]
  },
  {
   "cell_type": "code",
   "execution_count": 9,
   "id": "9d80929a-e981-4bca-a01e-eaac783a850a",
   "metadata": {},
   "outputs": [],
   "source": [
    "#3. How does the `filter()` function work in Python, and when would you use it?"
   ]
  },
  {
   "cell_type": "code",
   "execution_count": 11,
   "id": "f0140f1f-1a13-4751-87b6-601ab234da50",
   "metadata": {},
   "outputs": [
    {
     "name": "stdout",
     "output_type": "stream",
     "text": [
      "[2, 4, 6, 8, 10]\n"
     ]
    }
   ],
   "source": [
    "The filter() function in Python is used to filter elements of an iterable (such as a list, tuple, or set) based on a specified function. \n",
    "It returns an iterator that produces values for which the given function returns True.\n",
    "def even(number):\n",
    "    return number%2 == 0\n",
    "number = [1,2,3,4,5,6,7,8,9,10]\n",
    "even_number = list(filter(even,number))\n",
    "print(even_number)"
   ]
  },
  {
   "cell_type": "code",
   "execution_count": null,
   "id": "84cd63f9-f7e9-4392-9641-b7ada6e5d782",
   "metadata": {},
   "outputs": [],
   "source": [
    "4. Create a Python program that uses the `reduce()` function to find the product of all elements in\n",
    "a list."
   ]
  },
  {
   "cell_type": "code",
   "execution_count": 12,
   "id": "d916a3ad-3d67-4613-a5a1-5ddb4556a5b0",
   "metadata": {},
   "outputs": [
    {
     "name": "stdout",
     "output_type": "stream",
     "text": [
      "240\n"
     ]
    }
   ],
   "source": [
    "from functools import reduce\n",
    "\n",
    "list1 = [1, 2, 4, 5, 6]\n",
    "result = reduce(lambda x, y: x * y, list1)\n",
    "print(result)\n"
   ]
  },
  {
   "cell_type": "code",
   "execution_count": 13,
   "id": "194dcfee-038a-4d6e-8104-708bfe79ecab",
   "metadata": {},
   "outputs": [],
   "source": [
    "\n",
    "     \n",
    "    #Function Documentation and Best Practices:\n",
    "    \n",
    "    "
   ]
  },
  {
   "cell_type": "code",
   "execution_count": 14,
   "id": "d7269fde-1404-4d20-8bb6-271c428d70d6",
   "metadata": {},
   "outputs": [],
   "source": [
    "#1. Explain the purpose of docstrings in Python functions and how to write them."
   ]
  },
  {
   "cell_type": "code",
   "execution_count": 14,
   "id": "ac5632f9-dab2-491b-852f-5ecd17a8a836",
   "metadata": {},
   "outputs": [],
   "source": [
    "In Python, a docstring is a string literal that occurs as the first statement in a module, function, class, or method definition.\n",
    "It is used to document the purpose, usage, and behavior of the code. Docstrings are important for understanding the functionality of a piece of code, \n",
    "especially when someone else (or even yourself after some time) reads and uses the code.\n",
    "\n",
    "def function_name(parameter1, parameter2):\n",
    "    \"\"\"\n",
    "    Describe what the function does briefly.\n",
    "\n",
    "    Args:\n",
    "        parameter1 (type): Description of the first parameter.\n",
    "        parameter2 (type): Description of the second parameter.\n",
    "\n",
    "    Returns:\n",
    "        type: Description of the return value.\n",
    "    \"\"\"\n",
    "    # Function implementation goes here\n",
    "    pass\n"
   ]
  },
  {
   "cell_type": "code",
   "execution_count": null,
   "id": "64a72eb9-14ab-4ade-b420-63f026081eb9",
   "metadata": {},
   "outputs": [],
   "source": [
    "2. Describe some best practices for naming functions and variables in Python, including naming\n",
    "conventions and guidelines."
   ]
  },
  {
   "cell_type": "code",
   "execution_count": null,
   "id": "5c5e0691-b887-4223-900e-9daca8ebb47a",
   "metadata": {},
   "outputs": [],
   "source": []
  }
 ],
 "metadata": {
  "kernelspec": {
   "display_name": "Python 3 (ipykernel)",
   "language": "python",
   "name": "python3"
  },
  "language_info": {
   "codemirror_mode": {
    "name": "ipython",
    "version": 3
   },
   "file_extension": ".py",
   "mimetype": "text/x-python",
   "name": "python",
   "nbconvert_exporter": "python",
   "pygments_lexer": "ipython3",
   "version": "3.10.6"
  }
 },
 "nbformat": 4,
 "nbformat_minor": 5
}
